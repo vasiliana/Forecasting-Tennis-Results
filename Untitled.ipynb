{
 "cells": [
  {
   "cell_type": "code",
   "execution_count": 15,
   "metadata": {},
   "outputs": [],
   "source": [
    "import numpy as np\n",
    "import pandas as pd\n",
    "import glob"
   ]
  },
  {
   "cell_type": "markdown",
   "metadata": {},
   "source": [
    "## Data Cleaning"
   ]
  },
  {
   "cell_type": "markdown",
   "metadata": {},
   "source": [
    "### Atp Matches\n",
    "Gather all ATP Matches files into one file"
   ]
  },
  {
   "cell_type": "code",
   "execution_count": 16,
   "metadata": {},
   "outputs": [],
   "source": [
    "allfiles = glob.glob(\"atp/atp_matches_\" + \"????.csv\")\n",
    "atpmatches = pd.DataFrame()\n",
    "atpmatcheslist = list()\n",
    "for file in allfiles:\n",
    "    df = pd.read_csv(file, index_col=None, header=0)\n",
    "    atpmatcheslist.append(df)\n",
    "atpmatches = pd.concat(atpmatcheslist)"
   ]
  },
  {
   "cell_type": "code",
   "execution_count": 17,
   "metadata": {},
   "outputs": [],
   "source": [
    "pd.set_option('display.max_columns', None)"
   ]
  },
  {
   "cell_type": "code",
   "execution_count": 18,
   "metadata": {},
   "outputs": [
    {
     "data": {
      "text/html": [
       "<div>\n",
       "<style scoped>\n",
       "    .dataframe tbody tr th:only-of-type {\n",
       "        vertical-align: middle;\n",
       "    }\n",
       "\n",
       "    .dataframe tbody tr th {\n",
       "        vertical-align: top;\n",
       "    }\n",
       "\n",
       "    .dataframe thead th {\n",
       "        text-align: right;\n",
       "    }\n",
       "</style>\n",
       "<table border=\"1\" class=\"dataframe\">\n",
       "  <thead>\n",
       "    <tr style=\"text-align: right;\">\n",
       "      <th></th>\n",
       "      <th>tourney_id</th>\n",
       "      <th>tourney_name</th>\n",
       "      <th>surface</th>\n",
       "      <th>draw_size</th>\n",
       "      <th>tourney_level</th>\n",
       "      <th>tourney_date</th>\n",
       "      <th>match_num</th>\n",
       "      <th>winner_id</th>\n",
       "      <th>winner_seed</th>\n",
       "      <th>winner_entry</th>\n",
       "      <th>winner_name</th>\n",
       "      <th>winner_hand</th>\n",
       "      <th>winner_ht</th>\n",
       "      <th>winner_ioc</th>\n",
       "      <th>winner_age</th>\n",
       "      <th>loser_id</th>\n",
       "      <th>loser_seed</th>\n",
       "      <th>loser_entry</th>\n",
       "      <th>loser_name</th>\n",
       "      <th>loser_hand</th>\n",
       "      <th>loser_ht</th>\n",
       "      <th>loser_ioc</th>\n",
       "      <th>loser_age</th>\n",
       "      <th>score</th>\n",
       "      <th>best_of</th>\n",
       "      <th>round</th>\n",
       "      <th>minutes</th>\n",
       "      <th>w_ace</th>\n",
       "      <th>w_df</th>\n",
       "      <th>w_svpt</th>\n",
       "      <th>w_1stIn</th>\n",
       "      <th>w_1stWon</th>\n",
       "      <th>w_2ndWon</th>\n",
       "      <th>w_SvGms</th>\n",
       "      <th>w_bpSaved</th>\n",
       "      <th>w_bpFaced</th>\n",
       "      <th>l_ace</th>\n",
       "      <th>l_df</th>\n",
       "      <th>l_svpt</th>\n",
       "      <th>l_1stIn</th>\n",
       "      <th>l_1stWon</th>\n",
       "      <th>l_2ndWon</th>\n",
       "      <th>l_SvGms</th>\n",
       "      <th>l_bpSaved</th>\n",
       "      <th>l_bpFaced</th>\n",
       "      <th>winner_rank</th>\n",
       "      <th>winner_rank_points</th>\n",
       "      <th>loser_rank</th>\n",
       "      <th>loser_rank_points</th>\n",
       "    </tr>\n",
       "  </thead>\n",
       "  <tbody>\n",
       "    <tr>\n",
       "      <th>1026</th>\n",
       "      <td>1968-580</td>\n",
       "      <td>Australian Chps.</td>\n",
       "      <td>Grass</td>\n",
       "      <td>64</td>\n",
       "      <td>G</td>\n",
       "      <td>19680119</td>\n",
       "      <td>1</td>\n",
       "      <td>110023</td>\n",
       "      <td>NaN</td>\n",
       "      <td>NaN</td>\n",
       "      <td>Richard Coulthard</td>\n",
       "      <td>R</td>\n",
       "      <td>NaN</td>\n",
       "      <td>AUS</td>\n",
       "      <td>NaN</td>\n",
       "      <td>107760</td>\n",
       "      <td>NaN</td>\n",
       "      <td>NaN</td>\n",
       "      <td>Max Senior</td>\n",
       "      <td>R</td>\n",
       "      <td>NaN</td>\n",
       "      <td>AUS</td>\n",
       "      <td>NaN</td>\n",
       "      <td>12-10 7-5 4-6 7-5</td>\n",
       "      <td>5</td>\n",
       "      <td>R64</td>\n",
       "      <td>NaN</td>\n",
       "      <td>NaN</td>\n",
       "      <td>NaN</td>\n",
       "      <td>NaN</td>\n",
       "      <td>NaN</td>\n",
       "      <td>NaN</td>\n",
       "      <td>NaN</td>\n",
       "      <td>NaN</td>\n",
       "      <td>NaN</td>\n",
       "      <td>NaN</td>\n",
       "      <td>NaN</td>\n",
       "      <td>NaN</td>\n",
       "      <td>NaN</td>\n",
       "      <td>NaN</td>\n",
       "      <td>NaN</td>\n",
       "      <td>NaN</td>\n",
       "      <td>NaN</td>\n",
       "      <td>NaN</td>\n",
       "      <td>NaN</td>\n",
       "      <td>NaN</td>\n",
       "      <td>NaN</td>\n",
       "      <td>NaN</td>\n",
       "      <td>NaN</td>\n",
       "    </tr>\n",
       "    <tr>\n",
       "      <th>1027</th>\n",
       "      <td>1968-580</td>\n",
       "      <td>Australian Chps.</td>\n",
       "      <td>Grass</td>\n",
       "      <td>64</td>\n",
       "      <td>G</td>\n",
       "      <td>19680119</td>\n",
       "      <td>2</td>\n",
       "      <td>109803</td>\n",
       "      <td>NaN</td>\n",
       "      <td>NaN</td>\n",
       "      <td>John Brown</td>\n",
       "      <td>R</td>\n",
       "      <td>NaN</td>\n",
       "      <td>AUS</td>\n",
       "      <td>27.520876</td>\n",
       "      <td>106964</td>\n",
       "      <td>NaN</td>\n",
       "      <td>NaN</td>\n",
       "      <td>Ernie Mccabe</td>\n",
       "      <td>R</td>\n",
       "      <td>NaN</td>\n",
       "      <td>AUS</td>\n",
       "      <td>NaN</td>\n",
       "      <td>6-3 6-2 6-4</td>\n",
       "      <td>5</td>\n",
       "      <td>R64</td>\n",
       "      <td>NaN</td>\n",
       "      <td>NaN</td>\n",
       "      <td>NaN</td>\n",
       "      <td>NaN</td>\n",
       "      <td>NaN</td>\n",
       "      <td>NaN</td>\n",
       "      <td>NaN</td>\n",
       "      <td>NaN</td>\n",
       "      <td>NaN</td>\n",
       "      <td>NaN</td>\n",
       "      <td>NaN</td>\n",
       "      <td>NaN</td>\n",
       "      <td>NaN</td>\n",
       "      <td>NaN</td>\n",
       "      <td>NaN</td>\n",
       "      <td>NaN</td>\n",
       "      <td>NaN</td>\n",
       "      <td>NaN</td>\n",
       "      <td>NaN</td>\n",
       "      <td>NaN</td>\n",
       "      <td>NaN</td>\n",
       "      <td>NaN</td>\n",
       "      <td>NaN</td>\n",
       "    </tr>\n",
       "    <tr>\n",
       "      <th>1028</th>\n",
       "      <td>1968-580</td>\n",
       "      <td>Australian Chps.</td>\n",
       "      <td>Grass</td>\n",
       "      <td>64</td>\n",
       "      <td>G</td>\n",
       "      <td>19680119</td>\n",
       "      <td>3</td>\n",
       "      <td>100257</td>\n",
       "      <td>NaN</td>\n",
       "      <td>NaN</td>\n",
       "      <td>Ross Case</td>\n",
       "      <td>R</td>\n",
       "      <td>NaN</td>\n",
       "      <td>AUS</td>\n",
       "      <td>16.216290</td>\n",
       "      <td>110024</td>\n",
       "      <td>15</td>\n",
       "      <td>NaN</td>\n",
       "      <td>Gondo Widjojo</td>\n",
       "      <td>R</td>\n",
       "      <td>NaN</td>\n",
       "      <td>INA</td>\n",
       "      <td>NaN</td>\n",
       "      <td>6-4 3-6 6-3 7-5</td>\n",
       "      <td>5</td>\n",
       "      <td>R64</td>\n",
       "      <td>NaN</td>\n",
       "      <td>NaN</td>\n",
       "      <td>NaN</td>\n",
       "      <td>NaN</td>\n",
       "      <td>NaN</td>\n",
       "      <td>NaN</td>\n",
       "      <td>NaN</td>\n",
       "      <td>NaN</td>\n",
       "      <td>NaN</td>\n",
       "      <td>NaN</td>\n",
       "      <td>NaN</td>\n",
       "      <td>NaN</td>\n",
       "      <td>NaN</td>\n",
       "      <td>NaN</td>\n",
       "      <td>NaN</td>\n",
       "      <td>NaN</td>\n",
       "      <td>NaN</td>\n",
       "      <td>NaN</td>\n",
       "      <td>NaN</td>\n",
       "      <td>NaN</td>\n",
       "      <td>NaN</td>\n",
       "      <td>NaN</td>\n",
       "      <td>NaN</td>\n",
       "    </tr>\n",
       "  </tbody>\n",
       "</table>\n",
       "</div>"
      ],
      "text/plain": [
       "     tourney_id      tourney_name surface  draw_size tourney_level  \\\n",
       "1026   1968-580  Australian Chps.   Grass         64             G   \n",
       "1027   1968-580  Australian Chps.   Grass         64             G   \n",
       "1028   1968-580  Australian Chps.   Grass         64             G   \n",
       "\n",
       "      tourney_date  match_num  winner_id winner_seed winner_entry  \\\n",
       "1026      19680119          1     110023         NaN          NaN   \n",
       "1027      19680119          2     109803         NaN          NaN   \n",
       "1028      19680119          3     100257         NaN          NaN   \n",
       "\n",
       "            winner_name winner_hand  winner_ht winner_ioc  winner_age  \\\n",
       "1026  Richard Coulthard           R        NaN        AUS         NaN   \n",
       "1027         John Brown           R        NaN        AUS   27.520876   \n",
       "1028          Ross Case           R        NaN        AUS   16.216290   \n",
       "\n",
       "      loser_id loser_seed loser_entry     loser_name loser_hand  loser_ht  \\\n",
       "1026    107760        NaN         NaN     Max Senior          R       NaN   \n",
       "1027    106964        NaN         NaN   Ernie Mccabe          R       NaN   \n",
       "1028    110024         15         NaN  Gondo Widjojo          R       NaN   \n",
       "\n",
       "     loser_ioc  loser_age              score  best_of round  minutes  w_ace  \\\n",
       "1026       AUS        NaN  12-10 7-5 4-6 7-5        5   R64      NaN    NaN   \n",
       "1027       AUS        NaN        6-3 6-2 6-4        5   R64      NaN    NaN   \n",
       "1028       INA        NaN    6-4 3-6 6-3 7-5        5   R64      NaN    NaN   \n",
       "\n",
       "      w_df  w_svpt  w_1stIn  w_1stWon  w_2ndWon  w_SvGms  w_bpSaved  \\\n",
       "1026   NaN     NaN      NaN       NaN       NaN      NaN        NaN   \n",
       "1027   NaN     NaN      NaN       NaN       NaN      NaN        NaN   \n",
       "1028   NaN     NaN      NaN       NaN       NaN      NaN        NaN   \n",
       "\n",
       "      w_bpFaced  l_ace  l_df  l_svpt  l_1stIn  l_1stWon  l_2ndWon  l_SvGms  \\\n",
       "1026        NaN    NaN   NaN     NaN      NaN       NaN       NaN      NaN   \n",
       "1027        NaN    NaN   NaN     NaN      NaN       NaN       NaN      NaN   \n",
       "1028        NaN    NaN   NaN     NaN      NaN       NaN       NaN      NaN   \n",
       "\n",
       "      l_bpSaved  l_bpFaced  winner_rank  winner_rank_points  loser_rank  \\\n",
       "1026        NaN        NaN          NaN                 NaN         NaN   \n",
       "1027        NaN        NaN          NaN                 NaN         NaN   \n",
       "1028        NaN        NaN          NaN                 NaN         NaN   \n",
       "\n",
       "      loser_rank_points  \n",
       "1026                NaN  \n",
       "1027                NaN  \n",
       "1028                NaN  "
      ]
     },
     "execution_count": 18,
     "metadata": {},
     "output_type": "execute_result"
    }
   ],
   "source": [
    "atpmatches.sort_values(['tourney_date', 'tourney_id'], inplace=True)\n",
    "atpmatches.head(3)"
   ]
  },
  {
   "cell_type": "markdown",
   "metadata": {},
   "source": [
    "### Players\n",
    "Gather players' file and drop useless columns"
   ]
  },
  {
   "cell_type": "code",
   "execution_count": 30,
   "metadata": {},
   "outputs": [
    {
     "data": {
      "text/html": [
       "<div>\n",
       "<style scoped>\n",
       "    .dataframe tbody tr th:only-of-type {\n",
       "        vertical-align: middle;\n",
       "    }\n",
       "\n",
       "    .dataframe tbody tr th {\n",
       "        vertical-align: top;\n",
       "    }\n",
       "\n",
       "    .dataframe thead th {\n",
       "        text-align: right;\n",
       "    }\n",
       "</style>\n",
       "<table border=\"1\" class=\"dataframe\">\n",
       "  <thead>\n",
       "    <tr style=\"text-align: right;\">\n",
       "      <th></th>\n",
       "      <th>player_id</th>\n",
       "      <th>name_first</th>\n",
       "      <th>name_last</th>\n",
       "      <th>hand</th>\n",
       "      <th>dob</th>\n",
       "      <th>ioc</th>\n",
       "      <th>height</th>\n",
       "      <th>wikidata_id</th>\n",
       "    </tr>\n",
       "  </thead>\n",
       "  <tbody>\n",
       "    <tr>\n",
       "      <th>0</th>\n",
       "      <td>100001</td>\n",
       "      <td>Gardnar</td>\n",
       "      <td>Mulloy</td>\n",
       "      <td>R</td>\n",
       "      <td>19131122</td>\n",
       "      <td>USA</td>\n",
       "      <td>NaN</td>\n",
       "      <td>Q54544</td>\n",
       "    </tr>\n",
       "    <tr>\n",
       "      <th>1</th>\n",
       "      <td>100002</td>\n",
       "      <td>Pancho</td>\n",
       "      <td>Segura</td>\n",
       "      <td>R</td>\n",
       "      <td>19210620</td>\n",
       "      <td>ECU</td>\n",
       "      <td>NaN</td>\n",
       "      <td>Q54581</td>\n",
       "    </tr>\n",
       "    <tr>\n",
       "      <th>2</th>\n",
       "      <td>100003</td>\n",
       "      <td>Frank</td>\n",
       "      <td>Sedgman</td>\n",
       "      <td>R</td>\n",
       "      <td>19271002</td>\n",
       "      <td>AUS</td>\n",
       "      <td>NaN</td>\n",
       "      <td>Q962049</td>\n",
       "    </tr>\n",
       "  </tbody>\n",
       "</table>\n",
       "</div>"
      ],
      "text/plain": [
       "   player_id name_first name_last hand       dob  ioc  height wikidata_id\n",
       "0     100001    Gardnar    Mulloy    R  19131122  USA     NaN      Q54544\n",
       "1     100002     Pancho    Segura    R  19210620  ECU     NaN      Q54581\n",
       "2     100003      Frank   Sedgman    R  19271002  AUS     NaN     Q962049"
      ]
     },
     "execution_count": 30,
     "metadata": {},
     "output_type": "execute_result"
    }
   ],
   "source": [
    "players = pd.read_csv('atp/atp_players.csv')\n",
    "players.head(3)"
   ]
  },
  {
   "cell_type": "code",
   "execution_count": 31,
   "metadata": {},
   "outputs": [
    {
     "name": "stdout",
     "output_type": "stream",
     "text": [
      "Shape of Dataframe:  55614\n"
     ]
    },
    {
     "data": {
      "text/html": [
       "<div>\n",
       "<style scoped>\n",
       "    .dataframe tbody tr th:only-of-type {\n",
       "        vertical-align: middle;\n",
       "    }\n",
       "\n",
       "    .dataframe tbody tr th {\n",
       "        vertical-align: top;\n",
       "    }\n",
       "\n",
       "    .dataframe thead th {\n",
       "        text-align: right;\n",
       "    }\n",
       "</style>\n",
       "<table border=\"1\" class=\"dataframe\">\n",
       "  <thead>\n",
       "    <tr style=\"text-align: right;\">\n",
       "      <th></th>\n",
       "      <th>player_id</th>\n",
       "      <th>player_name</th>\n",
       "      <th>name_first</th>\n",
       "      <th>name_last</th>\n",
       "      <th>hand</th>\n",
       "      <th>dob</th>\n",
       "      <th>ioc</th>\n",
       "      <th>height</th>\n",
       "    </tr>\n",
       "  </thead>\n",
       "  <tbody>\n",
       "    <tr>\n",
       "      <th>16955</th>\n",
       "      <td>116971</td>\n",
       "      <td>?? Baillie</td>\n",
       "      <td>??</td>\n",
       "      <td>Baillie</td>\n",
       "      <td>U</td>\n",
       "      <td>NaN</td>\n",
       "      <td>USA</td>\n",
       "      <td>NaN</td>\n",
       "    </tr>\n",
       "    <tr>\n",
       "      <th>49642</th>\n",
       "      <td>204608</td>\n",
       "      <td>A Aguilar</td>\n",
       "      <td>A</td>\n",
       "      <td>Aguilar</td>\n",
       "      <td>R</td>\n",
       "      <td>NaN</td>\n",
       "      <td>MEX</td>\n",
       "      <td>NaN</td>\n",
       "    </tr>\n",
       "    <tr>\n",
       "      <th>47812</th>\n",
       "      <td>202778</td>\n",
       "      <td>A Alvarez</td>\n",
       "      <td>A</td>\n",
       "      <td>Alvarez</td>\n",
       "      <td>U</td>\n",
       "      <td>NaN</td>\n",
       "      <td>ESP</td>\n",
       "      <td>NaN</td>\n",
       "    </tr>\n",
       "  </tbody>\n",
       "</table>\n",
       "</div>"
      ],
      "text/plain": [
       "       player_id player_name name_first name_last hand  dob  ioc  height\n",
       "16955     116971  ?? Baillie         ??   Baillie    U  NaN  USA     NaN\n",
       "49642     204608   A Aguilar          A   Aguilar    R  NaN  MEX     NaN\n",
       "47812     202778   A Alvarez          A   Alvarez    U  NaN  ESP     NaN"
      ]
     },
     "execution_count": 31,
     "metadata": {},
     "output_type": "execute_result"
    }
   ],
   "source": [
    "# drop 'wikidata_id' column \n",
    "players['player_name'] = players['name_first'] + ' ' + players['name_last']\n",
    "players = players.sort_values(['player_name'])\n",
    "players = players[['player_id', 'player_name', 'name_first', 'name_last', 'hand', 'dob', 'ioc', 'height']]\n",
    "print('Shape of Dataframe: ', players.shape[0])\n",
    "players.head(3)"
   ]
  },
  {
   "cell_type": "markdown",
   "metadata": {},
   "source": [
    "#### Remove unfinished Matches, Davis Cup Matches, Players with less than 9 played matches and the matches that include these players"
   ]
  },
  {
   "cell_type": "code",
   "execution_count": 32,
   "metadata": {},
   "outputs": [],
   "source": [
    "matches_before = atpmatches.shape[0]\n",
    "\n",
    "#remove unfinished matches\n",
    "atpmatches = atpmatches[atpmatches['score'].str.contains(r'RET') == False]\n",
    "atpmatches = atpmatches[atpmatches['score'].str.contains(r'W/O') == False]\n",
    "atpmatches = atpmatches[atpmatches['score'].str.contains(r'DEF') == False]\n",
    "\n",
    "matches_after1 = atpmatches.shape[0]\n",
    "matches_unfinished = matches_before - matches_after1"
   ]
  },
  {
   "cell_type": "code",
   "execution_count": 33,
   "metadata": {},
   "outputs": [],
   "source": [
    "# remove Davis Cup matches to make easier my life\n",
    "atpmatches = atpmatches[atpmatches['tourney_level'].str.contains('D') == False]\n",
    "\n",
    "matches_after2 = atpmatches.shape[0]\n",
    "matches_Davis = matches_after1 - matches_after2"
   ]
  },
  {
   "cell_type": "code",
   "execution_count": 40,
   "metadata": {},
   "outputs": [
    {
     "name": "stdout",
     "output_type": "stream",
     "text": [
      "4836\n",
      "4836\n"
     ]
    },
    {
     "data": {
      "text/html": [
       "<div>\n",
       "<style scoped>\n",
       "    .dataframe tbody tr th:only-of-type {\n",
       "        vertical-align: middle;\n",
       "    }\n",
       "\n",
       "    .dataframe tbody tr th {\n",
       "        vertical-align: top;\n",
       "    }\n",
       "\n",
       "    .dataframe thead th {\n",
       "        text-align: right;\n",
       "    }\n",
       "</style>\n",
       "<table border=\"1\" class=\"dataframe\">\n",
       "  <thead>\n",
       "    <tr style=\"text-align: right;\">\n",
       "      <th></th>\n",
       "      <th>player_name</th>\n",
       "      <th>total_wins</th>\n",
       "      <th>total_losses</th>\n",
       "      <th>total_matches</th>\n",
       "    </tr>\n",
       "  </thead>\n",
       "  <tbody>\n",
       "    <tr>\n",
       "      <th>0</th>\n",
       "      <td></td>\n",
       "      <td>0</td>\n",
       "      <td>1</td>\n",
       "      <td>1</td>\n",
       "    </tr>\n",
       "    <tr>\n",
       "      <th>1</th>\n",
       "      <td>A D'Orsongna</td>\n",
       "      <td>0</td>\n",
       "      <td>1</td>\n",
       "      <td>1</td>\n",
       "    </tr>\n",
       "    <tr>\n",
       "      <th>2</th>\n",
       "      <td>A Difrancesco</td>\n",
       "      <td>0</td>\n",
       "      <td>1</td>\n",
       "      <td>1</td>\n",
       "    </tr>\n",
       "    <tr>\n",
       "      <th>3</th>\n",
       "      <td>A El Ghani</td>\n",
       "      <td>0</td>\n",
       "      <td>1</td>\n",
       "      <td>1</td>\n",
       "    </tr>\n",
       "    <tr>\n",
       "      <th>4</th>\n",
       "      <td>A Ferguson</td>\n",
       "      <td>1</td>\n",
       "      <td>1</td>\n",
       "      <td>2</td>\n",
       "    </tr>\n",
       "    <tr>\n",
       "      <th>5</th>\n",
       "      <td>A Fine</td>\n",
       "      <td>0</td>\n",
       "      <td>1</td>\n",
       "      <td>1</td>\n",
       "    </tr>\n",
       "    <tr>\n",
       "      <th>6</th>\n",
       "      <td>A G Barker</td>\n",
       "      <td>1</td>\n",
       "      <td>1</td>\n",
       "      <td>2</td>\n",
       "    </tr>\n",
       "    <tr>\n",
       "      <th>7</th>\n",
       "      <td>A Galbraith</td>\n",
       "      <td>0</td>\n",
       "      <td>1</td>\n",
       "      <td>1</td>\n",
       "    </tr>\n",
       "    <tr>\n",
       "      <th>8</th>\n",
       "      <td>A H Davies</td>\n",
       "      <td>0</td>\n",
       "      <td>1</td>\n",
       "      <td>1</td>\n",
       "    </tr>\n",
       "    <tr>\n",
       "      <th>9</th>\n",
       "      <td>A Hernandez</td>\n",
       "      <td>0</td>\n",
       "      <td>1</td>\n",
       "      <td>1</td>\n",
       "    </tr>\n",
       "  </tbody>\n",
       "</table>\n",
       "</div>"
      ],
      "text/plain": [
       "     player_name  total_wins  total_losses  total_matches\n",
       "0                          0             1              1\n",
       "1   A D'Orsongna           0             1              1\n",
       "2  A Difrancesco           0             1              1\n",
       "3     A El Ghani           0             1              1\n",
       "4     A Ferguson           1             1              2\n",
       "5         A Fine           0             1              1\n",
       "6     A G Barker           1             1              2\n",
       "7    A Galbraith           0             1              1\n",
       "8     A H Davies           0             1              1\n",
       "9    A Hernandez           0             1              1"
      ]
     },
     "execution_count": 40,
     "metadata": {},
     "output_type": "execute_result"
    }
   ],
   "source": [
    "# find total matches of every player and remove those with less than 9 played games\n",
    "w_group = atpmatches.groupby('winner_name').size()\n",
    "l_group = atpmatches.groupby('loser_name').size()\n",
    "\n",
    "matches = pd.DataFrame({'total_wins': w_group, 'total_losses': l_group}).fillna(0)\n",
    "matches[['total_wins', 'total_losses']] = matches[['total_wins', 'total_losses']].astype(int)\n",
    "matches = matches.reindex(['total_wins', 'total_losses'], axis=1)\n",
    "matches['total_matches'] = matches['total_wins'] + matches['total_losses']\n",
    "\n",
    "#matches = matches[['total_matches']]\n",
    "matches.index.name = 'player_name'\n",
    "matches.reset_index(level=0, inplace=True)\n",
    "\n",
    "print(matches.shape[0])\n",
    "playerslist = list(matches['player_name'])\n",
    "print(len(playerslist))\n",
    "\n",
    "atpmatches = atpmatches[atpmatches.winner_name.isin(playerslist)]\n",
    "atpmatches = atpmatches[atpmatches.loser_name.isin(playerslist)]\n",
    "\n",
    "matches_after3 = atpmatches.shape[0]\n",
    "matches_ = matches_after2 - matches_after3\n",
    "matches.head(10)"
   ]
  },
  {
   "cell_type": "code",
   "execution_count": 35,
   "metadata": {},
   "outputs": [
    {
     "name": "stdout",
     "output_type": "stream",
     "text": [
      "162980\n"
     ]
    },
    {
     "data": {
      "text/html": [
       "<div>\n",
       "<style scoped>\n",
       "    .dataframe tbody tr th:only-of-type {\n",
       "        vertical-align: middle;\n",
       "    }\n",
       "\n",
       "    .dataframe tbody tr th {\n",
       "        vertical-align: top;\n",
       "    }\n",
       "\n",
       "    .dataframe thead th {\n",
       "        text-align: right;\n",
       "    }\n",
       "</style>\n",
       "<table border=\"1\" class=\"dataframe\">\n",
       "  <thead>\n",
       "    <tr style=\"text-align: right;\">\n",
       "      <th></th>\n",
       "      <th>tourney_id</th>\n",
       "      <th>tourney_name</th>\n",
       "      <th>surface</th>\n",
       "      <th>draw_size</th>\n",
       "      <th>tourney_level</th>\n",
       "      <th>tourney_date</th>\n",
       "      <th>match_num</th>\n",
       "      <th>winner_id</th>\n",
       "      <th>winner_seed</th>\n",
       "      <th>winner_entry</th>\n",
       "      <th>winner_name</th>\n",
       "      <th>winner_hand</th>\n",
       "      <th>winner_ht</th>\n",
       "      <th>winner_ioc</th>\n",
       "      <th>winner_age</th>\n",
       "      <th>loser_id</th>\n",
       "      <th>loser_seed</th>\n",
       "      <th>loser_entry</th>\n",
       "      <th>loser_name</th>\n",
       "      <th>loser_hand</th>\n",
       "      <th>loser_ht</th>\n",
       "      <th>loser_ioc</th>\n",
       "      <th>loser_age</th>\n",
       "      <th>score</th>\n",
       "      <th>best_of</th>\n",
       "      <th>round</th>\n",
       "      <th>minutes</th>\n",
       "      <th>w_ace</th>\n",
       "      <th>w_df</th>\n",
       "      <th>w_svpt</th>\n",
       "      <th>w_1stIn</th>\n",
       "      <th>w_1stWon</th>\n",
       "      <th>w_2ndWon</th>\n",
       "      <th>w_SvGms</th>\n",
       "      <th>w_bpSaved</th>\n",
       "      <th>w_bpFaced</th>\n",
       "      <th>l_ace</th>\n",
       "      <th>l_df</th>\n",
       "      <th>l_svpt</th>\n",
       "      <th>l_1stIn</th>\n",
       "      <th>l_1stWon</th>\n",
       "      <th>l_2ndWon</th>\n",
       "      <th>l_SvGms</th>\n",
       "      <th>l_bpSaved</th>\n",
       "      <th>l_bpFaced</th>\n",
       "      <th>winner_rank</th>\n",
       "      <th>winner_rank_points</th>\n",
       "      <th>loser_rank</th>\n",
       "      <th>loser_rank_points</th>\n",
       "    </tr>\n",
       "  </thead>\n",
       "  <tbody>\n",
       "    <tr>\n",
       "      <th>1026</th>\n",
       "      <td>1968-580</td>\n",
       "      <td>Australian Chps.</td>\n",
       "      <td>Grass</td>\n",
       "      <td>64</td>\n",
       "      <td>G</td>\n",
       "      <td>19680119</td>\n",
       "      <td>1</td>\n",
       "      <td>110023</td>\n",
       "      <td>NaN</td>\n",
       "      <td>NaN</td>\n",
       "      <td>Richard Coulthard</td>\n",
       "      <td>R</td>\n",
       "      <td>NaN</td>\n",
       "      <td>AUS</td>\n",
       "      <td>NaN</td>\n",
       "      <td>107760</td>\n",
       "      <td>NaN</td>\n",
       "      <td>NaN</td>\n",
       "      <td>Max Senior</td>\n",
       "      <td>R</td>\n",
       "      <td>NaN</td>\n",
       "      <td>AUS</td>\n",
       "      <td>NaN</td>\n",
       "      <td>12-10 7-5 4-6 7-5</td>\n",
       "      <td>5</td>\n",
       "      <td>R64</td>\n",
       "      <td>NaN</td>\n",
       "      <td>NaN</td>\n",
       "      <td>NaN</td>\n",
       "      <td>NaN</td>\n",
       "      <td>NaN</td>\n",
       "      <td>NaN</td>\n",
       "      <td>NaN</td>\n",
       "      <td>NaN</td>\n",
       "      <td>NaN</td>\n",
       "      <td>NaN</td>\n",
       "      <td>NaN</td>\n",
       "      <td>NaN</td>\n",
       "      <td>NaN</td>\n",
       "      <td>NaN</td>\n",
       "      <td>NaN</td>\n",
       "      <td>NaN</td>\n",
       "      <td>NaN</td>\n",
       "      <td>NaN</td>\n",
       "      <td>NaN</td>\n",
       "      <td>NaN</td>\n",
       "      <td>NaN</td>\n",
       "      <td>NaN</td>\n",
       "      <td>NaN</td>\n",
       "    </tr>\n",
       "    <tr>\n",
       "      <th>1027</th>\n",
       "      <td>1968-580</td>\n",
       "      <td>Australian Chps.</td>\n",
       "      <td>Grass</td>\n",
       "      <td>64</td>\n",
       "      <td>G</td>\n",
       "      <td>19680119</td>\n",
       "      <td>2</td>\n",
       "      <td>109803</td>\n",
       "      <td>NaN</td>\n",
       "      <td>NaN</td>\n",
       "      <td>John Brown</td>\n",
       "      <td>R</td>\n",
       "      <td>NaN</td>\n",
       "      <td>AUS</td>\n",
       "      <td>27.520876</td>\n",
       "      <td>106964</td>\n",
       "      <td>NaN</td>\n",
       "      <td>NaN</td>\n",
       "      <td>Ernie Mccabe</td>\n",
       "      <td>R</td>\n",
       "      <td>NaN</td>\n",
       "      <td>AUS</td>\n",
       "      <td>NaN</td>\n",
       "      <td>6-3 6-2 6-4</td>\n",
       "      <td>5</td>\n",
       "      <td>R64</td>\n",
       "      <td>NaN</td>\n",
       "      <td>NaN</td>\n",
       "      <td>NaN</td>\n",
       "      <td>NaN</td>\n",
       "      <td>NaN</td>\n",
       "      <td>NaN</td>\n",
       "      <td>NaN</td>\n",
       "      <td>NaN</td>\n",
       "      <td>NaN</td>\n",
       "      <td>NaN</td>\n",
       "      <td>NaN</td>\n",
       "      <td>NaN</td>\n",
       "      <td>NaN</td>\n",
       "      <td>NaN</td>\n",
       "      <td>NaN</td>\n",
       "      <td>NaN</td>\n",
       "      <td>NaN</td>\n",
       "      <td>NaN</td>\n",
       "      <td>NaN</td>\n",
       "      <td>NaN</td>\n",
       "      <td>NaN</td>\n",
       "      <td>NaN</td>\n",
       "      <td>NaN</td>\n",
       "    </tr>\n",
       "    <tr>\n",
       "      <th>1028</th>\n",
       "      <td>1968-580</td>\n",
       "      <td>Australian Chps.</td>\n",
       "      <td>Grass</td>\n",
       "      <td>64</td>\n",
       "      <td>G</td>\n",
       "      <td>19680119</td>\n",
       "      <td>3</td>\n",
       "      <td>100257</td>\n",
       "      <td>NaN</td>\n",
       "      <td>NaN</td>\n",
       "      <td>Ross Case</td>\n",
       "      <td>R</td>\n",
       "      <td>NaN</td>\n",
       "      <td>AUS</td>\n",
       "      <td>16.216290</td>\n",
       "      <td>110024</td>\n",
       "      <td>15</td>\n",
       "      <td>NaN</td>\n",
       "      <td>Gondo Widjojo</td>\n",
       "      <td>R</td>\n",
       "      <td>NaN</td>\n",
       "      <td>INA</td>\n",
       "      <td>NaN</td>\n",
       "      <td>6-4 3-6 6-3 7-5</td>\n",
       "      <td>5</td>\n",
       "      <td>R64</td>\n",
       "      <td>NaN</td>\n",
       "      <td>NaN</td>\n",
       "      <td>NaN</td>\n",
       "      <td>NaN</td>\n",
       "      <td>NaN</td>\n",
       "      <td>NaN</td>\n",
       "      <td>NaN</td>\n",
       "      <td>NaN</td>\n",
       "      <td>NaN</td>\n",
       "      <td>NaN</td>\n",
       "      <td>NaN</td>\n",
       "      <td>NaN</td>\n",
       "      <td>NaN</td>\n",
       "      <td>NaN</td>\n",
       "      <td>NaN</td>\n",
       "      <td>NaN</td>\n",
       "      <td>NaN</td>\n",
       "      <td>NaN</td>\n",
       "      <td>NaN</td>\n",
       "      <td>NaN</td>\n",
       "      <td>NaN</td>\n",
       "      <td>NaN</td>\n",
       "      <td>NaN</td>\n",
       "    </tr>\n",
       "    <tr>\n",
       "      <th>1029</th>\n",
       "      <td>1968-580</td>\n",
       "      <td>Australian Chps.</td>\n",
       "      <td>Grass</td>\n",
       "      <td>64</td>\n",
       "      <td>G</td>\n",
       "      <td>19680119</td>\n",
       "      <td>4</td>\n",
       "      <td>100105</td>\n",
       "      <td>5</td>\n",
       "      <td>NaN</td>\n",
       "      <td>Allan Stone</td>\n",
       "      <td>R</td>\n",
       "      <td>NaN</td>\n",
       "      <td>AUS</td>\n",
       "      <td>22.264203</td>\n",
       "      <td>110025</td>\n",
       "      <td>NaN</td>\n",
       "      <td>NaN</td>\n",
       "      <td>Robert Layton</td>\n",
       "      <td>R</td>\n",
       "      <td>NaN</td>\n",
       "      <td>AUS</td>\n",
       "      <td>NaN</td>\n",
       "      <td>6-4 6-2 6-1</td>\n",
       "      <td>5</td>\n",
       "      <td>R64</td>\n",
       "      <td>NaN</td>\n",
       "      <td>NaN</td>\n",
       "      <td>NaN</td>\n",
       "      <td>NaN</td>\n",
       "      <td>NaN</td>\n",
       "      <td>NaN</td>\n",
       "      <td>NaN</td>\n",
       "      <td>NaN</td>\n",
       "      <td>NaN</td>\n",
       "      <td>NaN</td>\n",
       "      <td>NaN</td>\n",
       "      <td>NaN</td>\n",
       "      <td>NaN</td>\n",
       "      <td>NaN</td>\n",
       "      <td>NaN</td>\n",
       "      <td>NaN</td>\n",
       "      <td>NaN</td>\n",
       "      <td>NaN</td>\n",
       "      <td>NaN</td>\n",
       "      <td>NaN</td>\n",
       "      <td>NaN</td>\n",
       "      <td>NaN</td>\n",
       "      <td>NaN</td>\n",
       "    </tr>\n",
       "    <tr>\n",
       "      <th>1030</th>\n",
       "      <td>1968-580</td>\n",
       "      <td>Australian Chps.</td>\n",
       "      <td>Grass</td>\n",
       "      <td>64</td>\n",
       "      <td>G</td>\n",
       "      <td>19680119</td>\n",
       "      <td>5</td>\n",
       "      <td>109966</td>\n",
       "      <td>NaN</td>\n",
       "      <td>NaN</td>\n",
       "      <td>Warren Jacques</td>\n",
       "      <td>R</td>\n",
       "      <td>NaN</td>\n",
       "      <td>AUS</td>\n",
       "      <td>29.861739</td>\n",
       "      <td>110026</td>\n",
       "      <td>NaN</td>\n",
       "      <td>NaN</td>\n",
       "      <td>Bert Kearney</td>\n",
       "      <td>R</td>\n",
       "      <td>NaN</td>\n",
       "      <td>AUS</td>\n",
       "      <td>NaN</td>\n",
       "      <td>6-4 6-1 7-5</td>\n",
       "      <td>5</td>\n",
       "      <td>R64</td>\n",
       "      <td>NaN</td>\n",
       "      <td>NaN</td>\n",
       "      <td>NaN</td>\n",
       "      <td>NaN</td>\n",
       "      <td>NaN</td>\n",
       "      <td>NaN</td>\n",
       "      <td>NaN</td>\n",
       "      <td>NaN</td>\n",
       "      <td>NaN</td>\n",
       "      <td>NaN</td>\n",
       "      <td>NaN</td>\n",
       "      <td>NaN</td>\n",
       "      <td>NaN</td>\n",
       "      <td>NaN</td>\n",
       "      <td>NaN</td>\n",
       "      <td>NaN</td>\n",
       "      <td>NaN</td>\n",
       "      <td>NaN</td>\n",
       "      <td>NaN</td>\n",
       "      <td>NaN</td>\n",
       "      <td>NaN</td>\n",
       "      <td>NaN</td>\n",
       "      <td>NaN</td>\n",
       "    </tr>\n",
       "  </tbody>\n",
       "</table>\n",
       "</div>"
      ],
      "text/plain": [
       "     tourney_id      tourney_name surface  draw_size tourney_level  \\\n",
       "1026   1968-580  Australian Chps.   Grass         64             G   \n",
       "1027   1968-580  Australian Chps.   Grass         64             G   \n",
       "1028   1968-580  Australian Chps.   Grass         64             G   \n",
       "1029   1968-580  Australian Chps.   Grass         64             G   \n",
       "1030   1968-580  Australian Chps.   Grass         64             G   \n",
       "\n",
       "      tourney_date  match_num  winner_id winner_seed winner_entry  \\\n",
       "1026      19680119          1     110023         NaN          NaN   \n",
       "1027      19680119          2     109803         NaN          NaN   \n",
       "1028      19680119          3     100257         NaN          NaN   \n",
       "1029      19680119          4     100105           5          NaN   \n",
       "1030      19680119          5     109966         NaN          NaN   \n",
       "\n",
       "            winner_name winner_hand  winner_ht winner_ioc  winner_age  \\\n",
       "1026  Richard Coulthard           R        NaN        AUS         NaN   \n",
       "1027         John Brown           R        NaN        AUS   27.520876   \n",
       "1028          Ross Case           R        NaN        AUS   16.216290   \n",
       "1029        Allan Stone           R        NaN        AUS   22.264203   \n",
       "1030     Warren Jacques           R        NaN        AUS   29.861739   \n",
       "\n",
       "      loser_id loser_seed loser_entry     loser_name loser_hand  loser_ht  \\\n",
       "1026    107760        NaN         NaN     Max Senior          R       NaN   \n",
       "1027    106964        NaN         NaN   Ernie Mccabe          R       NaN   \n",
       "1028    110024         15         NaN  Gondo Widjojo          R       NaN   \n",
       "1029    110025        NaN         NaN  Robert Layton          R       NaN   \n",
       "1030    110026        NaN         NaN   Bert Kearney          R       NaN   \n",
       "\n",
       "     loser_ioc  loser_age              score  best_of round  minutes  w_ace  \\\n",
       "1026       AUS        NaN  12-10 7-5 4-6 7-5        5   R64      NaN    NaN   \n",
       "1027       AUS        NaN        6-3 6-2 6-4        5   R64      NaN    NaN   \n",
       "1028       INA        NaN    6-4 3-6 6-3 7-5        5   R64      NaN    NaN   \n",
       "1029       AUS        NaN        6-4 6-2 6-1        5   R64      NaN    NaN   \n",
       "1030       AUS        NaN        6-4 6-1 7-5        5   R64      NaN    NaN   \n",
       "\n",
       "      w_df  w_svpt  w_1stIn  w_1stWon  w_2ndWon  w_SvGms  w_bpSaved  \\\n",
       "1026   NaN     NaN      NaN       NaN       NaN      NaN        NaN   \n",
       "1027   NaN     NaN      NaN       NaN       NaN      NaN        NaN   \n",
       "1028   NaN     NaN      NaN       NaN       NaN      NaN        NaN   \n",
       "1029   NaN     NaN      NaN       NaN       NaN      NaN        NaN   \n",
       "1030   NaN     NaN      NaN       NaN       NaN      NaN        NaN   \n",
       "\n",
       "      w_bpFaced  l_ace  l_df  l_svpt  l_1stIn  l_1stWon  l_2ndWon  l_SvGms  \\\n",
       "1026        NaN    NaN   NaN     NaN      NaN       NaN       NaN      NaN   \n",
       "1027        NaN    NaN   NaN     NaN      NaN       NaN       NaN      NaN   \n",
       "1028        NaN    NaN   NaN     NaN      NaN       NaN       NaN      NaN   \n",
       "1029        NaN    NaN   NaN     NaN      NaN       NaN       NaN      NaN   \n",
       "1030        NaN    NaN   NaN     NaN      NaN       NaN       NaN      NaN   \n",
       "\n",
       "      l_bpSaved  l_bpFaced  winner_rank  winner_rank_points  loser_rank  \\\n",
       "1026        NaN        NaN          NaN                 NaN         NaN   \n",
       "1027        NaN        NaN          NaN                 NaN         NaN   \n",
       "1028        NaN        NaN          NaN                 NaN         NaN   \n",
       "1029        NaN        NaN          NaN                 NaN         NaN   \n",
       "1030        NaN        NaN          NaN                 NaN         NaN   \n",
       "\n",
       "      loser_rank_points  \n",
       "1026                NaN  \n",
       "1027                NaN  \n",
       "1028                NaN  \n",
       "1029                NaN  \n",
       "1030                NaN  "
      ]
     },
     "execution_count": 35,
     "metadata": {},
     "output_type": "execute_result"
    }
   ],
   "source": [
    "atpmatches.sort_values(['tourney_date', 'tourney_id'], inplace=True)\n",
    "print(atpmatches.shape[0])\n",
    "atpmatches.head(5)"
   ]
  },
  {
   "cell_type": "code",
   "execution_count": 37,
   "metadata": {},
   "outputs": [
    {
     "name": "stdout",
     "output_type": "stream",
     "text": [
      "4975\n"
     ]
    },
    {
     "data": {
      "text/html": [
       "<div>\n",
       "<style scoped>\n",
       "    .dataframe tbody tr th:only-of-type {\n",
       "        vertical-align: middle;\n",
       "    }\n",
       "\n",
       "    .dataframe tbody tr th {\n",
       "        vertical-align: top;\n",
       "    }\n",
       "\n",
       "    .dataframe thead th {\n",
       "        text-align: right;\n",
       "    }\n",
       "</style>\n",
       "<table border=\"1\" class=\"dataframe\">\n",
       "  <thead>\n",
       "    <tr style=\"text-align: right;\">\n",
       "      <th></th>\n",
       "      <th>player_id</th>\n",
       "      <th>player_name</th>\n",
       "      <th>name_first</th>\n",
       "      <th>name_last</th>\n",
       "      <th>hand</th>\n",
       "      <th>dob</th>\n",
       "      <th>ioc</th>\n",
       "      <th>height</th>\n",
       "    </tr>\n",
       "  </thead>\n",
       "  <tbody>\n",
       "    <tr>\n",
       "      <th>54582</th>\n",
       "      <td>209548</td>\n",
       "      <td>A D'Orsongna</td>\n",
       "      <td>A</td>\n",
       "      <td>D'Orsongna</td>\n",
       "      <td>U</td>\n",
       "      <td>NaN</td>\n",
       "      <td>NaN</td>\n",
       "      <td>NaN</td>\n",
       "    </tr>\n",
       "    <tr>\n",
       "      <th>9851</th>\n",
       "      <td>109866</td>\n",
       "      <td>A Difrancesco</td>\n",
       "      <td>A</td>\n",
       "      <td>Difrancesco</td>\n",
       "      <td>R</td>\n",
       "      <td>NaN</td>\n",
       "      <td>AUS</td>\n",
       "      <td>NaN</td>\n",
       "    </tr>\n",
       "    <tr>\n",
       "      <th>10407</th>\n",
       "      <td>110422</td>\n",
       "      <td>A El Ghani</td>\n",
       "      <td>A</td>\n",
       "      <td>El Ghani</td>\n",
       "      <td>U</td>\n",
       "      <td>NaN</td>\n",
       "      <td>UAE</td>\n",
       "      <td>NaN</td>\n",
       "    </tr>\n",
       "    <tr>\n",
       "      <th>54863</th>\n",
       "      <td>209829</td>\n",
       "      <td>A Ferguson</td>\n",
       "      <td>A</td>\n",
       "      <td>Ferguson</td>\n",
       "      <td>U</td>\n",
       "      <td>NaN</td>\n",
       "      <td>NaN</td>\n",
       "      <td>NaN</td>\n",
       "    </tr>\n",
       "    <tr>\n",
       "      <th>54683</th>\n",
       "      <td>209649</td>\n",
       "      <td>A Fine</td>\n",
       "      <td>A</td>\n",
       "      <td>Fine</td>\n",
       "      <td>U</td>\n",
       "      <td>NaN</td>\n",
       "      <td>GBR</td>\n",
       "      <td>NaN</td>\n",
       "    </tr>\n",
       "  </tbody>\n",
       "</table>\n",
       "</div>"
      ],
      "text/plain": [
       "       player_id    player_name name_first    name_last hand  dob  ioc  height\n",
       "54582     209548   A D'Orsongna          A   D'Orsongna    U  NaN  NaN     NaN\n",
       "9851      109866  A Difrancesco          A  Difrancesco    R  NaN  AUS     NaN\n",
       "10407     110422     A El Ghani          A     El Ghani    U  NaN  UAE     NaN\n",
       "54863     209829     A Ferguson          A     Ferguson    U  NaN  NaN     NaN\n",
       "54683     209649         A Fine          A         Fine    U  NaN  GBR     NaN"
      ]
     },
     "execution_count": 37,
     "metadata": {},
     "output_type": "execute_result"
    }
   ],
   "source": [
    "players = players[players.player_name.isin(playerslist)]\n",
    "print(players.shape[0])\n",
    "players.head(5)"
   ]
  },
  {
   "cell_type": "code",
   "execution_count": 12,
   "metadata": {},
   "outputs": [
    {
     "name": "stdout",
     "output_type": "stream",
     "text": [
      "Matches before cleaning:  180305\n",
      "#########################################\n",
      "Unfinished Matches removed:  4734\n",
      "Davis-Cup Matches removed:  13752\n",
      "Matches removed of players with less than 9 played games:  7030\n",
      "#########################################\n",
      "Matches after cleaning:  154789\n",
      "Percentage of matches removed:  14.151576495382823 %\n"
     ]
    }
   ],
   "source": [
    "percentage = ((matches_before - matches_after3)/matches_before) * 100\n",
    "\n",
    "print('Matches before cleaning: ', matches_before)\n",
    "print(\"#########################################\")\n",
    "print('Unfinished Matches removed: ', matches_unfinished)\n",
    "print('Davis-Cup Matches removed: ', matches_Davis)\n",
    "print('Matches removed of players with less than 9 played games: ', matches_)\n",
    "print(\"#########################################\")\n",
    "print('Matches after cleaning: ', matches_after3)\n",
    "print('Percentage of matches removed: ', percentage, '%')"
   ]
  },
  {
   "cell_type": "code",
   "execution_count": 13,
   "metadata": {},
   "outputs": [
    {
     "name": "stdout",
     "output_type": "stream",
     "text": [
      "Players before cleaning:  4820\n",
      "#########################################\n",
      "Players with less than 9 matches:  2932\n",
      "#########################################\n",
      "Players after cleaning:  1888\n"
     ]
    }
   ],
   "source": [
    "print('Players before cleaning: ', matches.shape[0])\n",
    "print(\"#########################################\")\n",
    "print('Players with less than 9 matches: ', playersOff.shape[0])\n",
    "print(\"#########################################\")\n",
    "print('Players after cleaning: ', playersOn.shape[0])"
   ]
  },
  {
   "cell_type": "markdown",
   "metadata": {},
   "source": [
    "### Save the cleaned Dataset"
   ]
  },
  {
   "cell_type": "code",
   "execution_count": 14,
   "metadata": {},
   "outputs": [],
   "source": [
    "atpmatches.to_csv('~/Desktop/atp/prod/atpmatches_cleaned.csv')\n",
    "players.to_csv('~/Desktop/atp/prod/atpplayers_cleaned.csv')"
   ]
  },
  {
   "cell_type": "markdown",
   "metadata": {},
   "source": [
    "## Player Parameters"
   ]
  },
  {
   "cell_type": "markdown",
   "metadata": {},
   "source": [
    "### Height"
   ]
  },
  {
   "cell_type": "code",
   "execution_count": null,
   "metadata": {},
   "outputs": [],
   "source": [
    "h_w = atpmatches.groupby('winner_name')['winner_ht'].mean()\n",
    "h_l = atpmatches.groupby('loser_name')['loser_ht'].mean()\n",
    "\n",
    "height_w = pd.DataFrame({'height_': h_w}).fillna(0)\n",
    "height_l = pd.DataFrame({'height_': h_l}).fillna(0)\n",
    "\n",
    "height_w.index.name = 'player_name'\n",
    "height_l.index.name = 'player_name'\n",
    "\n",
    "height_w = height_w.reset_index(level=0)\n",
    "height_l = height_l.reset_index(level=0)\n",
    "\n",
    "height = pd.concat([height_w, height_l])\n",
    "height = height.sort_values(['player_name'])\n",
    "height.drop_duplicates(subset='player_name', inplace=True)"
   ]
  },
  {
   "cell_type": "code",
   "execution_count": null,
   "metadata": {},
   "outputs": [],
   "source": [
    "height['height_'] = height['height_'].replace({0: np.nan})\n",
    "height_average = height['height_'].mean()\n",
    "height_average = round(height_average)\n",
    "\n",
    "height['height_'].fillna(height_average, inplace=True)\n",
    "height.head(10)"
   ]
  },
  {
   "cell_type": "code",
   "execution_count": null,
   "metadata": {},
   "outputs": [],
   "source": [
    "atpplayers = pd.merge(left=players, right=height, left_on='player_name', right_on='player_name')\n",
    "print('Shape of Dataframe: ', atpplayers.shape[0])\n",
    "atpplayers.head()"
   ]
  },
  {
   "cell_type": "code",
   "execution_count": null,
   "metadata": {},
   "outputs": [],
   "source": [
    "atpplayers.drop(['height'], axis=1, inplace=True)"
   ]
  },
  {
   "cell_type": "code",
   "execution_count": null,
   "metadata": {},
   "outputs": [],
   "source": [
    "atpplayers = atpplayers[['player_id', 'player_name', 'hand', 'dob', 'ioc', 'height_']]"
   ]
  },
  {
   "cell_type": "code",
   "execution_count": null,
   "metadata": {},
   "outputs": [],
   "source": [
    "atpplayers.head()"
   ]
  },
  {
   "cell_type": "markdown",
   "metadata": {},
   "source": [
    "## Surface"
   ]
  },
  {
   "cell_type": "code",
   "execution_count": null,
   "metadata": {},
   "outputs": [],
   "source": [
    "hard = atpmatches[(atpmatches['surface'] == 'Hard')]\n",
    "clay = atpmatches[(atpmatches['surface'] == 'Clay')]\n",
    "grass = atpmatches[(atpmatches['surface'] == 'Grass')]\n",
    "carpet = atpmatches[(atpmatches['surface'] == 'Carpet')]\n",
    "\n",
    "total_matches = hard.shape[0] + clay.shape[0] + grass.shape[0] + carpet.shape[0]\n",
    "\n",
    "print('Total Matches: ', total_matches)\n",
    "print('Hard Surface Matches: ', hard.shape[0], '(', round((hard.shape[0]/total_matches)*100, 3), '%)')\n",
    "print('Clay Surface Matches: ', clay.shape[0], '(', round((clay.shape[0]/total_matches)*100, 3), '%)')\n",
    "print('Grass Surface Matches: ', grass.shape[0], '(', round((grass.shape[0]/total_matches)*100, 3), '%)')\n",
    "print('Carpet Surface Matches: ', carpet.shape[0], '(', round((carpet.shape[0]/total_matches)*100, 3), '%)')"
   ]
  },
  {
   "cell_type": "markdown",
   "metadata": {},
   "source": [
    "### Hard Surface "
   ]
  },
  {
   "cell_type": "code",
   "execution_count": null,
   "metadata": {},
   "outputs": [],
   "source": [
    "w_group = hard.groupby('winner_name').size()\n",
    "l_group = hard.groupby('loser_name').size()\n",
    "    \n",
    "h_surf = pd.DataFrame({'wins_hard': w_group, 'losses_hard': l_group}).fillna(0)\n",
    "h_surf[['wins_hard', 'losses_hard']] = h_surf[['wins_hard', 'losses_hard']].astype(int)\n",
    "\n",
    "h_surf = h_surf.reindex(['wins_hard', 'losses_hard'], axis=1)\n",
    "h_surf['matches_hard'] = h_surf['wins_hard'] + h_surf['losses_hard']\n",
    "h_surf['hard(%)'] = np.round((h_surf['wins_hard']/h_surf['matches_hard'])*100,2)\n",
    "    \n",
    "h_surf.index.name = 'player_name'\n",
    "h_surf = h_surf.sort_values(['player_name'])\n",
    "print('Shape of Dataframe: ', h_surf.shape[0])\n",
    "\n",
    "h_surf.head(3)"
   ]
  },
  {
   "cell_type": "code",
   "execution_count": null,
   "metadata": {},
   "outputs": [],
   "source": [
    "h_surf.to_csv('~/Desktop/atp/prod/atp_winsOnHardSurface.csv')"
   ]
  },
  {
   "cell_type": "markdown",
   "metadata": {},
   "source": [
    "### Clay Surface"
   ]
  },
  {
   "cell_type": "code",
   "execution_count": null,
   "metadata": {},
   "outputs": [],
   "source": [
    "w_group = clay.groupby('winner_name').size()\n",
    "l_group = clay.groupby('loser_name').size()\n",
    "    \n",
    "cl_surf = pd.DataFrame({'wins_clay': w_group, 'losses_clay': l_group}).fillna(0)\n",
    "cl_surf[['wins_clay', 'losses_clay']] = cl_surf[['wins_clay', 'losses_clay']].astype(int)\n",
    "    \n",
    "cl_surf = cl_surf.reindex(['wins_clay', 'losses_clay'], axis=1)  \n",
    "cl_surf['matches_clay'] = cl_surf['wins_clay'] + cl_surf['losses_clay']\n",
    "cl_surf['clay(%)'] = np.round((cl_surf['wins_clay']/cl_surf['matches_clay'])*100,2)\n",
    "    \n",
    "cl_surf.index.name = 'player_name'\n",
    "cl_surf = cl_surf.sort_values(['player_name'])\n",
    "print('Shape of Dataframe: ', cl_surf.shape[0])\n",
    "\n",
    "cl_surf.head(3)"
   ]
  },
  {
   "cell_type": "code",
   "execution_count": null,
   "metadata": {},
   "outputs": [],
   "source": [
    "cl_surf.to_csv('~/Desktop/atp/prod/atp_winsOnClaySurface.csv')"
   ]
  },
  {
   "cell_type": "markdown",
   "metadata": {},
   "source": [
    "### Grass Surface"
   ]
  },
  {
   "cell_type": "code",
   "execution_count": null,
   "metadata": {},
   "outputs": [],
   "source": [
    "w_group = grass.groupby('winner_name').size()\n",
    "l_group = grass.groupby('loser_name').size()\n",
    "    \n",
    "g_surf = pd.DataFrame({'wins_grass': w_group, 'losses_grass': l_group}).fillna(0)\n",
    "g_surf[['wins_grass', 'losses_grass']] = g_surf[['wins_grass', 'losses_grass']].astype(int)\n",
    "\n",
    "g_surf = g_surf.reindex(['wins_grass', 'losses_grass'], axis=1)\n",
    "g_surf['matches_grass'] = g_surf['wins_grass'] + g_surf['losses_grass']\n",
    "g_surf['grass(%)'] = np.round((g_surf['wins_grass']/g_surf['matches_grass'])*100,2)\n",
    "    \n",
    "g_surf.index.name = 'player_name'\n",
    "g_surf = g_surf.sort_values(['player_name'])\n",
    "print('Shape of Dataframe: ', g_surf.shape[0])\n",
    "\n",
    "g_surf.head(3)"
   ]
  },
  {
   "cell_type": "code",
   "execution_count": null,
   "metadata": {},
   "outputs": [],
   "source": [
    "g_surf.to_csv('~/Desktop/atp/prod/atp_winsOnGrassSurface.csv')"
   ]
  },
  {
   "cell_type": "markdown",
   "metadata": {},
   "source": [
    "### Carpet Surface "
   ]
  },
  {
   "cell_type": "code",
   "execution_count": null,
   "metadata": {},
   "outputs": [],
   "source": [
    "w_group = carpet.groupby('winner_name').size()\n",
    "l_group = carpet.groupby('loser_name').size()\n",
    "    \n",
    "c_surf = pd.DataFrame({'wins_carpet': w_group, 'losses_carpet': l_group}).fillna(0)\n",
    "c_surf[['wins_carpet', 'losses_carpet']] = c_surf[['wins_carpet', 'losses_carpet']].astype(int)  \n",
    "c_surf = c_surf.reindex(['wins_carpet', 'losses_carpet'], axis=1)\n",
    "    \n",
    "c_surf['matches_carpet'] = c_surf['wins_carpet'] + c_surf['losses_carpet']\n",
    "c_surf['carpet(%)'] = np.round((c_surf['wins_carpet']/c_surf['matches_carpet'])*100,2)\n",
    "    \n",
    "c_surf.index.name = 'player_name'\n",
    "c_surf = c_surf.sort_values(['player_name'])\n",
    "print('Shape of Dataframe: ', c_surf.shape[0])\n",
    "\n",
    "c_surf.head(3)"
   ]
  },
  {
   "cell_type": "code",
   "execution_count": null,
   "metadata": {},
   "outputs": [],
   "source": [
    "c_surf.to_csv('~/Desktop/atp/prod/atp_winsOnCarpetSurface.csv')"
   ]
  },
  {
   "cell_type": "markdown",
   "metadata": {},
   "source": [
    "### All Types Summary"
   ]
  },
  {
   "cell_type": "code",
   "execution_count": null,
   "metadata": {},
   "outputs": [],
   "source": [
    "hard_carpet = pd.concat([h_surf, c_surf],axis=1).fillna(0)\n",
    "hard_carpet['matches1'] = hard_carpet['matches_hard'] + hard_carpet['matches_carpet']\n",
    "hard_carpet = hard_carpet[['matches_hard', 'hard(%)', 'matches_carpet', 'carpet(%)', 'matches1']]\n",
    "\n",
    "grass_clay = pd.concat([g_surf, cl_surf], axis=1).fillna(0)\n",
    "grass_clay['matches2'] = grass_clay['matches_grass'] + grass_clay['matches_clay']\n",
    "grass_clay = grass_clay[['matches_grass', 'grass(%)', 'matches_clay', 'clay(%)', 'matches2']]\n",
    "\n",
    "allsurfaces = pd.concat([hard_carpet, grass_clay], axis=1)\n",
    "allsurfaces['matches'] = allsurfaces['matches1'] + allsurfaces['matches2']\n",
    "\n",
    "allsurfaces = allsurfaces[['matches', 'hard(%)', 'carpet(%)', 'grass(%)', 'clay(%)']]\n",
    "allsurfaces.rename(columns = {'matches': 'total_matches'}, inplace=True)\n",
    "\n",
    "allsurfaces = allsurfaces.reset_index(level=0)\n",
    "allsurfaces.rename(columns = {'index': 'player_name'}, inplace=True)\n",
    "allsurfaces = allsurfaces.sort_values(['player_name'])\n",
    "allsurfaces.head(10)"
   ]
  },
  {
   "cell_type": "code",
   "execution_count": null,
   "metadata": {},
   "outputs": [],
   "source": [
    "atpplayers = pd.merge(left=atpplayers, right=allsurfaces, left_on='player_name', right_on='player_name')\n",
    "atpplayers.head(10)"
   ]
  },
  {
   "cell_type": "code",
   "execution_count": null,
   "metadata": {},
   "outputs": [],
   "source": [
    "atpplayers = atpplayers[['player_id', 'player_name', 'hand', 'dob', 'ioc', 'height_', 'total_matches', 'hard(%)', 'carpet(%)', 'grass(%)', 'clay(%)']]\n",
    "atpplayers.to_csv('~/Desktop/atp/prod/atpplayers.csv')"
   ]
  },
  {
   "cell_type": "markdown",
   "metadata": {},
   "source": [
    "## Performance Metrics per Match"
   ]
  },
  {
   "cell_type": "code",
   "execution_count": null,
   "metadata": {},
   "outputs": [],
   "source": [
    "metrics = atpmatches.copy()\n",
    "metrics.head(5)"
   ]
  },
  {
   "cell_type": "markdown",
   "metadata": {},
   "source": [
    "### Percentage of Successful First Serves\n",
    "$$ 1stS(\\%) = \\frac{1stIn}{svpt} $$"
   ]
  },
  {
   "cell_type": "code",
   "execution_count": null,
   "metadata": {},
   "outputs": [],
   "source": [
    "metrics['w_1stS(%)'] = round((metrics['w_1stIn']/metrics['w_svpt'])*100,2)\n",
    "metrics['l_1stS(%)'] = round((metrics['l_1stIn']/metrics['l_svpt'])*100,2)\n",
    "metrics.head(5)"
   ]
  },
  {
   "cell_type": "markdown",
   "metadata": {},
   "source": [
    "### Number of Successful Second Serves\n",
    "$$ 2ndIn = svpt - 1stIn $$"
   ]
  },
  {
   "cell_type": "code",
   "execution_count": null,
   "metadata": {},
   "outputs": [],
   "source": [
    "metrics['w_2ndIn'] = metrics['w_svpt'] - metrics['w_1stIn']\n",
    "metrics['l_2ndIn'] = metrics['l_svpt'] - metrics['l_1stIn']\n",
    "metrics.head(5)"
   ]
  },
  {
   "cell_type": "markdown",
   "metadata": {},
   "source": [
    "### Percentage of First Serve Points Won\n",
    "$$ 1stSvpt(\\%) = \\frac{1stWon}{1stIn} $$"
   ]
  },
  {
   "cell_type": "code",
   "execution_count": null,
   "metadata": {},
   "outputs": [],
   "source": [
    "metrics['w_1st_svpt(%)'] = round((metrics['w_1stWon']/metrics['w_1stIn'])*100,2)\n",
    "metrics['l_1st_svpt(%)'] = round((metrics['l_1stWon']/metrics['l_1stIn'])*100,2)\n",
    "metrics.head(5)"
   ]
  },
  {
   "cell_type": "markdown",
   "metadata": {},
   "source": [
    "### Percentage of Second Serve Points Won\n",
    "$$ 2ndSvpt(\\%) = \\frac{2nWon}{2ndIn} $$"
   ]
  },
  {
   "cell_type": "code",
   "execution_count": null,
   "metadata": {},
   "outputs": [],
   "source": [
    "metrics['w_2nd_svpt(%)'] = round((metrics['w_2ndWon']/metrics['w_2ndIn'])*100,2)\n",
    "metrics['l_2nd_svpt(%)'] = round((metrics['l_2ndWon']/metrics['l_2ndIn'])*100,2)\n",
    "metrics.head(5)"
   ]
  },
  {
   "cell_type": "markdown",
   "metadata": {},
   "source": [
    "### Number of First Serve Return Points Won\n",
    "$$ winner_{1stSreturnPointsWon} = loser_{1stIn} - loser_{1stWon} $$"
   ]
  },
  {
   "cell_type": "code",
   "execution_count": null,
   "metadata": {},
   "outputs": [],
   "source": [
    "metrics['w_1stS_rtpWon'] = metrics['l_1stIn'] - metrics['l_1stWon']\n",
    "metrics['l_1stS_rtpWon'] = metrics['w_1stIn'] - metrics['w_1stWon']\n",
    "metrics.head(5)"
   ]
  },
  {
   "cell_type": "markdown",
   "metadata": {},
   "source": [
    "### Number of Second Serve Return Points Won\n",
    "$$ winner_{2ndSreturnPointsWon} = loser_{2ndIn} - loser_{2ndWon} $$"
   ]
  },
  {
   "cell_type": "code",
   "execution_count": null,
   "metadata": {},
   "outputs": [],
   "source": [
    "metrics['w_2ndS_rtpWon'] = metrics['l_2ndIn'] - metrics['l_2ndWon']\n",
    "metrics['l_2ndS_rtpWon'] = metrics['w_2ndIn'] - metrics['w_2ndWon']\n",
    "metrics.head(5)"
   ]
  },
  {
   "cell_type": "markdown",
   "metadata": {},
   "source": [
    "### Percentage of First Serve Return Points Won\n",
    "$$ winner_{1stSreturnPointsWon}(\\%) = \\frac{winner_{1stSreturnPointsWon}}{loser_{1stIn}} $$"
   ]
  },
  {
   "cell_type": "code",
   "execution_count": null,
   "metadata": {},
   "outputs": [],
   "source": [
    "metrics['w_1stS_rtpWon(%)'] = round((metrics['w_1stS_rtpWon']/metrics['l_1stIn'])*100,2)\n",
    "metrics['l_1stS_rtpWon(%)'] = round((metrics['l_1stS_rtpWon']/metrics['w_1stIn'])*100,2)\n",
    "metrics.head(5)"
   ]
  },
  {
   "cell_type": "markdown",
   "metadata": {},
   "source": [
    "### Percentage of Second Serve Return Points Won\n",
    "$$ winner_{2ndSreturnPointsWon}(\\%) = \\frac{winner_{2ndSreturnPointsWon}}{loser_{2ndIn}} $$"
   ]
  },
  {
   "cell_type": "code",
   "execution_count": null,
   "metadata": {},
   "outputs": [],
   "source": [
    "metrics['w_2ndS_rtpWon(%)'] = round((metrics['w_2ndS_rtpWon']/metrics['l_2ndIn'])*100,2)\n",
    "metrics['l_2ndS_rtpWon(%)'] = round((metrics['l_2ndS_rtpWon']/metrics['w_2ndIn'])*100,2)\n",
    "metrics.head(5)"
   ]
  },
  {
   "cell_type": "markdown",
   "metadata": {},
   "source": [
    "### Percentage of Break Points Won\n",
    "$$ bpWon(\\%) = \\frac{bpSaved}{bpFaced} $$"
   ]
  },
  {
   "cell_type": "code",
   "execution_count": null,
   "metadata": {},
   "outputs": [],
   "source": [
    "metrics['w_bpWon(%)'] = round((metrics['w_bpSaved']/metrics['w_bpFaced'])*100,2)\n",
    "metrics['l_bpWon(%)'] = round((metrics['l_bpSaved']/metrics['l_bpFaced'])*100,2)\n",
    "metrics.head(5)"
   ]
  },
  {
   "cell_type": "markdown",
   "metadata": {},
   "source": [
    "### Number of Break Points Won\n",
    "$$ winner_{bpWon} = loser_{bpFaced} - loser_{bpSaved} $$"
   ]
  },
  {
   "cell_type": "code",
   "execution_count": null,
   "metadata": {},
   "outputs": [],
   "source": [
    "metrics['w_bpWon'] = metrics['l_bpFaced'] - metrics['l_bpSaved']\n",
    "metrics['l_bpWon'] = metrics['w_bpFaced'] - metrics['w_bpSaved']\n",
    "metrics.head(5)"
   ]
  },
  {
   "cell_type": "markdown",
   "metadata": {},
   "source": [
    "### Percentage of Break Points Converted\n",
    "$$ winner_{bpConv}(\\%) = \\frac{winner_{bpWon}}{loser_{bpFaced}} $$"
   ]
  },
  {
   "cell_type": "code",
   "execution_count": null,
   "metadata": {},
   "outputs": [],
   "source": [
    "metrics['w_bpConv(%)'] = round((metrics['w_bpWon']/metrics['l_bpFaced'])*100,2)\n",
    "metrics['l_bpConv(%)'] = round((metrics['l_bpWon']/metrics['w_bpFaced'])*100,2)\n",
    "metrics.head(5)"
   ]
  },
  {
   "cell_type": "markdown",
   "metadata": {},
   "source": [
    "### Summarize and Save in a csv file"
   ]
  },
  {
   "cell_type": "code",
   "execution_count": null,
   "metadata": {},
   "outputs": [],
   "source": [
    "metrics.sort_values(['tourney_date', 'tourney_id'], inplace = True)\n",
    "metrics.to_csv('~/Desktop/atp/prod/performance_metrics.csv')"
   ]
  },
  {
   "cell_type": "markdown",
   "metadata": {},
   "source": [
    "## Other Important Features "
   ]
  },
  {
   "cell_type": "markdown",
   "metadata": {},
   "source": [
    "### Wins and Losses of All Players in ATP Matches "
   ]
  },
  {
   "cell_type": "code",
   "execution_count": null,
   "metadata": {},
   "outputs": [],
   "source": [
    "finals = atpmatches[(atpmatches['round'] == 'F')]\n",
    "semifinals = atpmatches[(atpmatches['round'] == 'SF')]\n",
    "\n",
    "titles_group = finals.groupby('winner_name').size()\n",
    "finals_group = semifinals.groupby('winner_name').size()\n",
    "\n",
    "w_group = atpmatches.groupby('winner_name').size()\n",
    "l_group = atpmatches.groupby('loser_name').size()\n",
    "\n",
    "scores = pd.DataFrame({'Wins': w_group, 'Losses': l_group}).fillna(0)\n",
    "scores[['Wins', 'Losses']] = scores[['Wins', 'Losses']].astype(int)\n",
    "scores = scores.reindex(['Wins', 'Losses'], axis=1)\n",
    "\n",
    "scores['Matches'] = scores['Wins'] + scores['Losses']\n",
    "scores['Wins(%)'] = np.round(scores['Wins']*100/scores['Matches'],2)\n",
    "\n",
    "scores.index.name = 'player_name'\n",
    "\n",
    "scores = scores.join(pd.DataFrame(finals_group, columns = ['Finals'],)).fillna(0)\n",
    "scores = scores.join(pd.DataFrame(titles_group, columns = ['Titles'],)).fillna(0)\n",
    "\n",
    "scores['Titles'] = scores['Titles'].astype('int')\n",
    "scores['Finals'] = scores['Finals'].astype('int')\n",
    "    \n",
    "scores = scores.sort_values(['Titles', 'Wins'], ascending=False)\n",
    "scores.head()"
   ]
  },
  {
   "cell_type": "code",
   "execution_count": null,
   "metadata": {},
   "outputs": [],
   "source": [
    "scores.sort_values(['player_name'], inplace=True)\n",
    "scores.reset_index(level=0, inplace=True)\n",
    "scores.head(3)"
   ]
  },
  {
   "cell_type": "code",
   "execution_count": null,
   "metadata": {},
   "outputs": [],
   "source": [
    "atpplayers = pd.merge(left=atpplayers, right=scores, left_on='player_name', right_on='player_name')\n",
    "print('Shape of Dataframe: ', atpplayers.shape[0])\n",
    "atpplayers.head(3)"
   ]
  },
  {
   "cell_type": "code",
   "execution_count": null,
   "metadata": {},
   "outputs": [],
   "source": [
    "atpplayers.drop(['total_matches'],axis=1, inplace=True)\n",
    "atpplayers[['height_']] = atpplayers[['height_']].astype('int')\n",
    "atpplayers.head(3)"
   ]
  },
  {
   "cell_type": "markdown",
   "metadata": {},
   "source": [
    "### Previous Wins and Losses on Specific Tournament"
   ]
  },
  {
   "cell_type": "code",
   "execution_count": null,
   "metadata": {},
   "outputs": [],
   "source": [
    "def wins_on_tour_per_player(winsOnTour, tourney):\n",
    "    tourney_ = str(tourney)\n",
    "    matches = winsOnTour[(winsOnTour['tourney_name'] == tourney_)]\n",
    "    finals = matches[(matches['round'] == 'F')]\n",
    "    semifinals = matches[(matches['round'] == 'SF')]\n",
    "    \n",
    "    titles_group = finals.groupby('winner_name').size()\n",
    "    finals_group = semifinals.groupby('winner_name').size()\n",
    "    \n",
    "    w_group = matches.groupby('winner_name').size()\n",
    "    l_group = matches.groupby('loser_name').size()\n",
    "    \n",
    "    scores = pd.DataFrame({'wins': w_group, 'losses': l_group}).fillna(0)\n",
    "    scores[['wins', 'losses']] = scores[['wins', 'losses']].astype(int)\n",
    "    \n",
    "    scores = scores.reindex(['wins', 'losses'], axis=1)\n",
    "    \n",
    "    scores['matches'] = scores['wins'] + scores['losses']\n",
    "    scores['percentage'] = np.round(scores['wins']*100/scores['matches'],2)\n",
    "    \n",
    "    scores.index.name = 'player_name'\n",
    "    \n",
    "    scores = scores.join(pd.DataFrame(finals_group, columns = ['finals'],)).fillna(0)\n",
    "    scores = scores.join(pd.DataFrame(titles_group, columns = ['titles'],)).fillna(0)\n",
    "    \n",
    "    scores['titles'] = scores['titles'].astype('int')\n",
    "    scores['finals'] = scores['finals'].astype('int')\n",
    "    return scores"
   ]
  },
  {
   "cell_type": "code",
   "execution_count": null,
   "metadata": {},
   "outputs": [],
   "source": [
    "# INSERT THE TOURNAMENT YOU WANT FROM THE LIST\n",
    "tournaments = ['Adelaide', 'Auckland', 'Australian Open', 'Atlanta', 'Amsterdam','Acapulco',\n",
    "               'Amersfoort', 'Athens Olympics', 'Antwerp', 'Antalya',  'Atp Cup',\n",
    "               'Bogota', 'Barcelona', 'Bastad', 'Bucharest', 'Basel', 'Brighton','Buenos Aires',\n",
    "               'Bangkok', 'Beijing Olympics','Brisbane', 'Belgrade','Budapest','Belgrade 2',\n",
    "               'Casablanca', 'Chennai', 'Copenhagen', 'Canada Masters', 'Cincinnati Masters', \n",
    "               'Costa Do Sauipe', 'Chengdu', 'Cordoba', 'Cologne 1','Cologne 2','Cagliari',\n",
    "               'Doha', 'Dubai', 'Delray Beach', 'Dusseldorf',\n",
    "               'Estoril','Eastbourne',\n",
    "               'Gstaad', 'Geneva', 'Great Ocean Road Open', \n",
    "               'Hamburg Masters', 'Halle', 'Hong Kong', 'Houston', 'Ho Chi Minh City','Hamburg',\n",
    "               'Indian Wells Masters', 'Indianapolis','Istanbul',\n",
    "               'Johannesburg',\n",
    "               'Kitzbuhel','Kuala Lumpur',\n",
    "               'London', 'Los Angeles', 'Long Island','Lyon','Las Vegas', 'London Olympics', \n",
    "               'Los Cabos', \n",
    "               'Mallorca', 'Marseille', 'Memphis','Mexico City','Miami Masters', 'Monte Carlo Masters',\n",
    "               'Munich','Moscow', 'Masters Cup', 'Milan', 'Madrid Masters', 'Metz', 'Mumbai',\n",
    "               'Montpellier','Marrakech', 'Murray River Open', 'Marbella',\n",
    "               'Nottingham','Newport', 'Nice', 'NextGen Finals', 'New York', 'Nur-Sultan',\n",
    "               \"Queen's Club\",'Quito',\n",
    "               'Rome Masters', 'Roland Garros', 'Rotterdam','Rio de Janeiro','Rio Olympics',\n",
    "               'ATP Rio de Janeiro', \n",
    "               'Orlando',\n",
    "               'Palermo','Paris Masters','Poertschach', 'Pune', 'Parma',\n",
    "               'San Jose', 'Santiago', 'Scottsdale', 'Sydney', 'St. Poelten', 's Hertogenbosch',\n",
    "               'Stuttgart Outdoor', 'San Marino', 'Sydney Olympics', 'Shanghai','Stuttgart Masters',\n",
    "               'St. Petersburg', 'Stockholm', 'Stuttgart','Sopot', 'Shanghai Masters','Sao Paulo',\n",
    "               'Shenzhen', 'Sofia', 'St Petersburg', 'Sardinia', 'San Diego', 'Singapore', \n",
    "               'Tashkent', 'Tokyo', 'Toulouse','Tokyo Olympics',\n",
    "               'Umag', 'US Open', \n",
    "               'Vienna', 'Vina del Mar', 'Valencia',\n",
    "               'Wimbledon','Washington', 'Warsaw', 'Winston-Salem',\n",
    "               'Zagreb',  'Zhuhai' ]"
   ]
  },
  {
   "cell_type": "code",
   "execution_count": null,
   "metadata": {},
   "outputs": [],
   "source": [
    "wins_on_tour_per_player(atpmatches, 'Umag')"
   ]
  },
  {
   "cell_type": "code",
   "execution_count": null,
   "metadata": {},
   "outputs": [],
   "source": []
  },
  {
   "cell_type": "code",
   "execution_count": null,
   "metadata": {},
   "outputs": [],
   "source": []
  },
  {
   "cell_type": "code",
   "execution_count": null,
   "metadata": {},
   "outputs": [],
   "source": []
  },
  {
   "cell_type": "code",
   "execution_count": null,
   "metadata": {},
   "outputs": [],
   "source": []
  },
  {
   "cell_type": "code",
   "execution_count": null,
   "metadata": {},
   "outputs": [],
   "source": []
  },
  {
   "cell_type": "code",
   "execution_count": null,
   "metadata": {},
   "outputs": [],
   "source": []
  },
  {
   "cell_type": "code",
   "execution_count": null,
   "metadata": {},
   "outputs": [],
   "source": []
  }
 ],
 "metadata": {
  "kernelspec": {
   "display_name": "Python 3",
   "language": "python",
   "name": "python3"
  },
  "language_info": {
   "codemirror_mode": {
    "name": "ipython",
    "version": 3
   },
   "file_extension": ".py",
   "mimetype": "text/x-python",
   "name": "python",
   "nbconvert_exporter": "python",
   "pygments_lexer": "ipython3",
   "version": "3.8.3"
  }
 },
 "nbformat": 4,
 "nbformat_minor": 4
}
