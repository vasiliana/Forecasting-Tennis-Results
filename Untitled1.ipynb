{
 "cells": [
  {
   "cell_type": "code",
   "execution_count": 47,
   "metadata": {},
   "outputs": [],
   "source": [
    "import numpy as np\n",
    "import pandas as pd\n",
    "import csv\n",
    "from pandas import DataFrame\n",
    "from pandas import Series\n",
    "import matplotlib.pyplot as plt\n",
    "from matplotlib import style"
   ]
  },
  {
   "cell_type": "code",
   "execution_count": 48,
   "metadata": {},
   "outputs": [],
   "source": [
    "def k_factor(matches_played):\n",
    "    K = 250\n",
    "    offset = 5\n",
    "    shape = 0.4 \n",
    "    return K/(matches_played + offset)**shape"
   ]
  },
  {
   "cell_type": "code",
   "execution_count": 49,
   "metadata": {},
   "outputs": [],
   "source": [
    "#winning a match regardless the number of sets played = 1\n",
    "score = 1"
   ]
  },
  {
   "cell_type": "code",
   "execution_count": 50,
   "metadata": {},
   "outputs": [],
   "source": [
    "#define a function for calculating the expected score of player_A\n",
    "#expected score of player_B = 1 - expected score of player\n",
    "def calc_exp_score(playerA_rating, playerB_rating):\n",
    "    exp_score = 1/(1+(10**((playerB_rating - playerA_rating)/400)))\n",
    "    return exp_score"
   ]
  },
  {
   "cell_type": "code",
   "execution_count": 52,
   "metadata": {},
   "outputs": [],
   "source": [
    "#define a function for calculating new elo\n",
    "def update_elo(old_elo, k, actual_score, expected_score):\n",
    "    new_elo = old_elo + k *(actual_score - expected_score)\n",
    "    return new_elo"
   ]
  },
  {
   "cell_type": "code",
   "execution_count": 77,
   "metadata": {},
   "outputs": [],
   "source": [
    "#read player CSV file and store important columns into lists\n",
    "with open('atp/prod/atpplayers_cleaned.csv') as csvfile:\n",
    "    readCSV = csv.reader(csvfile, delimiter= ',')\n",
    "    col_index = [1,2,7]\n",
    "    all_players = []\n",
    "    for row in readCSV:\n",
    "        player_info = []\n",
    "        for i in col_index:\n",
    "            player_info.append(row[i])\n",
    "        all_players.append(player_info)"
   ]
  },
  {
   "cell_type": "code",
   "execution_count": 78,
   "metadata": {},
   "outputs": [],
   "source": [
    "#Column headers for player dataframe\n",
    "player_col_header = ['player_id', 'player_name', 'country']"
   ]
  },
  {
   "cell_type": "code",
   "execution_count": 79,
   "metadata": {},
   "outputs": [],
   "source": [
    "#Create a dataframe for keeping track of player info\n",
    "#every player starts with an elo rating of 1500\n",
    "players = DataFrame(all_players, columns = player_col_header)\n",
    "players['current_elo'] = Series(1500, index=players.index)\n",
    "players['last_tourney_date'] = Series('N/A', index=players.index)\n",
    "players['matches_played'] = Series(0, index=players.index)\n",
    "players['peak_elo'] = Series(1500, index=players.index)\n",
    "players['peak_elo_date'] = Series('N/A', index=players.index)"
   ]
  },
  {
   "cell_type": "code",
   "execution_count": 80,
   "metadata": {},
   "outputs": [],
   "source": [
    "#Convert objects within dataframe to numeric\n",
    "players = players._convert(numeric=True)"
   ]
  },
  {
   "cell_type": "code",
   "execution_count": 81,
   "metadata": {},
   "outputs": [],
   "source": [
    "#Create an empty dataframe to store time series elo for top 10 players based on peak elo rating\n",
    "#Use player_id as the column header of the dataframe\n",
    "#Top ten players consist of: Djokovic, Federer, McEnroe, Nadal, Borg, Lendl, Becker, Murray, Sampras, Connors \n",
    "elo_timeseries_col_header = [104925, 103819, 100581, 104745, 100437, 100656, 101414, 104918, 101948, 100284]\n",
    "elo_timeseries = DataFrame(columns=elo_timeseries_col_header)"
   ]
  },
  {
   "cell_type": "code",
   "execution_count": 82,
   "metadata": {},
   "outputs": [],
   "source": [
    "#read through matches file for each year to update players data frame\n",
    "#starting from current_year\n",
    "current_year = 1968"
   ]
  },
  {
   "cell_type": "code",
   "execution_count": 86,
   "metadata": {},
   "outputs": [
    {
     "ename": "AttributeError",
     "evalue": "'function' object has no attribute 'astype'",
     "output_type": "error",
     "traceback": [
      "\u001b[0;31m---------------------------------------------------------------------------\u001b[0m",
      "\u001b[0;31mAttributeError\u001b[0m                            Traceback (most recent call last)",
      "\u001b[0;32m<ipython-input-86-eb7650308dbd>\u001b[0m in \u001b[0;36m<module>\u001b[0;34m\u001b[0m\n\u001b[1;32m     25\u001b[0m     \u001b[0;31m#Sort matches dataframe by tourney_date and then by round\u001b[0m\u001b[0;34m\u001b[0m\u001b[0;34m\u001b[0m\u001b[0;34m\u001b[0m\u001b[0m\n\u001b[1;32m     26\u001b[0m     \u001b[0msorter\u001b[0m \u001b[0;34m=\u001b[0m \u001b[0;34m[\u001b[0m\u001b[0;34m'RR'\u001b[0m\u001b[0;34m,\u001b[0m \u001b[0;34m'R128'\u001b[0m\u001b[0;34m,\u001b[0m \u001b[0;34m'R64'\u001b[0m\u001b[0;34m,\u001b[0m \u001b[0;34m'R32'\u001b[0m\u001b[0;34m,\u001b[0m \u001b[0;34m'R16'\u001b[0m\u001b[0;34m,\u001b[0m \u001b[0;34m'QF'\u001b[0m\u001b[0;34m,\u001b[0m \u001b[0;34m'SF'\u001b[0m\u001b[0;34m,\u001b[0m \u001b[0;34m'F'\u001b[0m\u001b[0;34m]\u001b[0m\u001b[0;34m\u001b[0m\u001b[0;34m\u001b[0m\u001b[0m\n\u001b[0;32m---> 27\u001b[0;31m     \u001b[0mmatches\u001b[0m\u001b[0;34m.\u001b[0m\u001b[0mround\u001b[0m \u001b[0;34m=\u001b[0m \u001b[0mmatches\u001b[0m\u001b[0;34m.\u001b[0m\u001b[0mround\u001b[0m\u001b[0;34m.\u001b[0m\u001b[0mastype\u001b[0m\u001b[0;34m(\u001b[0m\u001b[0;34m'category'\u001b[0m\u001b[0;34m)\u001b[0m\u001b[0;34m\u001b[0m\u001b[0;34m\u001b[0m\u001b[0m\n\u001b[0m\u001b[1;32m     28\u001b[0m     \u001b[0mmatches\u001b[0m\u001b[0;34m.\u001b[0m\u001b[0mround\u001b[0m\u001b[0;34m.\u001b[0m\u001b[0mcat\u001b[0m\u001b[0;34m.\u001b[0m\u001b[0mset_categories\u001b[0m\u001b[0;34m(\u001b[0m\u001b[0msorter\u001b[0m\u001b[0;34m,\u001b[0m \u001b[0minplace\u001b[0m\u001b[0;34m=\u001b[0m\u001b[0;32mTrue\u001b[0m\u001b[0;34m)\u001b[0m\u001b[0;34m\u001b[0m\u001b[0;34m\u001b[0m\u001b[0m\n\u001b[1;32m     29\u001b[0m     \u001b[0mmatches\u001b[0m \u001b[0;34m=\u001b[0m \u001b[0mmatches\u001b[0m\u001b[0;34m.\u001b[0m\u001b[0msort\u001b[0m\u001b[0;34m(\u001b[0m\u001b[0;34m[\u001b[0m\u001b[0;34m'tourney_date'\u001b[0m\u001b[0;34m,\u001b[0m \u001b[0;34m'round'\u001b[0m\u001b[0;34m]\u001b[0m\u001b[0;34m,\u001b[0m \u001b[0mascending\u001b[0m \u001b[0;34m=\u001b[0m \u001b[0;34m[\u001b[0m\u001b[0;36m1\u001b[0m\u001b[0;34m,\u001b[0m \u001b[0msorter\u001b[0m\u001b[0;34m]\u001b[0m\u001b[0;34m)\u001b[0m\u001b[0;34m\u001b[0m\u001b[0;34m\u001b[0m\u001b[0m\n",
      "\u001b[0;31mAttributeError\u001b[0m: 'function' object has no attribute 'astype'"
     ]
    }
   ],
   "source": [
    "for i in range((2020-1968)+1):\n",
    "    current_year_file_name = 'atp/atp_matches_'+ str(current_year) + '.csv'\n",
    "\n",
    "    #read match CSV file and store important columns into lists\n",
    "    with open(current_year_file_name) as csvfile:\n",
    "        readCSV = csv.reader(csvfile, delimiter= ',')\n",
    "        col_index = [0,5,7,17,27,28,29]\n",
    "        all_matches = []\n",
    "        for row in readCSV:\n",
    "            match_info = []\n",
    "            for i in col_index:\n",
    "                match_info.append(row[i])\n",
    "            all_matches.append(match_info)\n",
    "            \n",
    "    #separate column names and match info\n",
    "    header_info = all_matches[0]\n",
    "    all_matches = all_matches[1:]\n",
    "\n",
    "    #Create a dataframe to store match info\n",
    "    matches = DataFrame(all_matches, columns=header_info)\n",
    "\n",
    "    #Convert objects within matches dataframe to numeric\n",
    "    matches = matches._convert(numeric=True)\n",
    "    \n",
    "    #Sort matches dataframe by tourney_date and then by round\n",
    "    sorter = ['RR', 'R128', 'R64', 'R32', 'R16', 'QF', 'SF', 'F']\n",
    "    matches.round = matches.round.astype('category')\n",
    "    matches.round.cat.set_categories(sorter, inplace=True)\n",
    "    matches = matches.sort(['tourney_date', 'round'], ascending = [1, sorter])\n",
    "\n",
    "    for index, row in matches.iterrows():\n",
    "        winner_id = row['winner_id']\n",
    "        loser_id = row['loser_id']\n",
    "        tourney_date = row['tourney_date']\n",
    "        index_winner = players[players['player_id'] == winner_id].index.tolist()\n",
    "        index_loser = players[players['player_id'] == loser_id].index.tolist()\n",
    "        old_elo_winner = players.loc[index_winner[0], 'current_elo'] \n",
    "        old_elo_loser = players.loc[index_loser[0], 'current_elo']\n",
    "        exp_score_winner = calc_exp_score(old_elo_winner, old_elo_loser)\n",
    "        exp_score_loser = 1 - exp_score_winner \n",
    "        matches_played_winner = players.loc[index_winner[0], 'matches_played']\n",
    "        matches_played_loser = players.loc[index_loser[0], 'matches_played']\n",
    "        new_elo_winner = update_elo(old_elo_winner, k_factor(matches_played_winner), score, exp_score_winner)\n",
    "        new_elo_loser = update_elo(old_elo_loser, k_factor(matches_played_loser), score-1, exp_score_loser)\n",
    "        players.loc[index_winner[0], 'current_elo'] = new_elo_winner\n",
    "        players.loc[index_winner[0], 'last_tourney_date'] = tourney_date\n",
    "        players.loc[index_winner[0], 'matches_played'] = players.loc[index_winner[0], 'matches_played'] + 1\n",
    "        players.loc[index_loser[0], 'current_elo'] = new_elo_loser\n",
    "        players.loc[index_loser[0], 'last_tourney_date'] = tourney_date\n",
    "        players.loc[index_loser[0], 'matches_played'] = players.loc[index_loser[0], 'matches_played'] + 1\n",
    "        if new_elo_winner > players.loc[index_winner[0], 'peak_elo']:\n",
    "            players.loc[index_winner[0], 'peak_elo'] = new_elo_winner\n",
    "            players.loc[index_winner[0], 'peak_elo_date'] = row['tourney_date']\n",
    "\n",
    "        #Convert tourney_date to a time stamp, then update elo_timeseries data frame\n",
    "        tourney_date_timestamp = pandas.to_datetime(tourney_date, format='%Y%m%d')\n",
    "        if tourney_date_timestamp not in elo_timeseries.index:\n",
    "            elo_timeseries.loc[tourney_date_timestamp, elo_timeseries_col_header] = np.nan\n",
    "\n",
    "        if (winner_id in elo_timeseries_col_header) and (loser_id in elo_timeseries_col_header):\n",
    "            elo_timeseries.ix[tourney_date_timestamp, winner_id]= new_elo_winner\n",
    "            elo_timeseries.ix[tourney_date_timestamp, loser_id]= new_elo_loser\n",
    "        elif winner_id in elo_timeseries_col_header:\n",
    "            elo_timeseries.ix[tourney_date_timestamp, winner_id]= new_elo_winner\n",
    "        elif loser_id in elo_timeseries_col_header:\n",
    "            elo_timeseries.ix[tourney_date_timestamp, loser_id]= new_elo_loser\n",
    "\n",
    "    ##Uncomment to output year end elo_rankings for every year between 1968 and 2015\n",
    "    #output_file_name = str(current_year) + '_yr_end_elo_ranking.csv'\n",
    "    #players.to_csv(output_file_name)\n",
    "\n",
    "    current_year = current_year + 1"
   ]
  },
  {
   "cell_type": "code",
   "execution_count": 44,
   "metadata": {},
   "outputs": [
    {
     "ename": "SyntaxError",
     "evalue": "invalid syntax (<ipython-input-44-6c9e78b43fdf>, line 4)",
     "output_type": "error",
     "traceback": [
      "\u001b[0;36m  File \u001b[0;32m\"<ipython-input-44-6c9e78b43fdf>\"\u001b[0;36m, line \u001b[0;32m4\u001b[0m\n\u001b[0;31m    print players.sort(columns= 'peak_elo', ascending=False)[:10]\u001b[0m\n\u001b[0m          ^\u001b[0m\n\u001b[0;31mSyntaxError\u001b[0m\u001b[0;31m:\u001b[0m invalid syntax\n"
     ]
    }
   ],
   "source": [
    "players.to_csv('2015_yr_end_elo_ranking.csv')\n",
    "players = pandas.read_csv('2015_yr_end_elo_ranking.csv')\n",
    "#Print all-time top 10 peak_elo\n",
    "print players.sort(columns= 'peak_elo', ascending=False)[:10]\n",
    "\n",
    "#Save elo_timeseries dataframe for plotting purposes\n",
    "elo_timeseries.to_pickle('elo_timeseries.pkl')\n",
    "\n",
    "#Open saved pickle file and save into a dataframe\n",
    "elo_timeseries = pandas.read_pickle('elo_timeseries.pkl')\n",
    "\n",
    "#Convert objects within elo_timeseries dataframe to numeric\n",
    "elo_timeseries = elo_timeseries.convert_objects(convert_numeric=True)\n",
    "\n",
    "#Use linear interpolation for elo_ratings\n",
    "elo_timeseries = elo_timeseries.interpolate(method='linear')\n",
    "\n",
    "#Store the indices in the elo_timeseries in a list\n",
    "index_timestamp = list(elo_timeseries.index.values)\n",
    "\n",
    "#Get rid of elo ratings since known last_tourney_date\n",
    "for player in elo_timeseries_col_header:\n",
    "    player_index = players[players['player_id'] == player].index.tolist()\n",
    "    player_last_played = players.loc[player_index[0], 'last_tourney_date']\n",
    "    player_last_played_timestamp = np.datetime64(pandas.to_datetime(player_last_played, format='%Y%m%d'))\n",
    "\n",
    "    elo_ratings_remove = index_timestamp[index_timestamp.index(player_last_played_timestamp)+1:]\n",
    "\n",
    "    for i in elo_ratings_remove:\n",
    "        elo_timeseries.loc[i, player] = np.nan"
   ]
  },
  {
   "cell_type": "code",
   "execution_count": 45,
   "metadata": {},
   "outputs": [
    {
     "ename": "NameError",
     "evalue": "name 'style' is not defined",
     "output_type": "error",
     "traceback": [
      "\u001b[0;31m---------------------------------------------------------------------------\u001b[0m",
      "\u001b[0;31mNameError\u001b[0m                                 Traceback (most recent call last)",
      "\u001b[0;32m<ipython-input-45-79af8d6c2cd0>\u001b[0m in \u001b[0;36m<module>\u001b[0;34m\u001b[0m\n\u001b[0;32m----> 1\u001b[0;31m \u001b[0mstyle\u001b[0m\u001b[0;34m.\u001b[0m\u001b[0muse\u001b[0m\u001b[0;34m(\u001b[0m\u001b[0;34m'stylesheet.mplstyle'\u001b[0m\u001b[0;34m)\u001b[0m\u001b[0;34m\u001b[0m\u001b[0;34m\u001b[0m\u001b[0m\n\u001b[0m\u001b[1;32m      2\u001b[0m \u001b[0mplt\u001b[0m\u001b[0;34m.\u001b[0m\u001b[0mplot\u001b[0m\u001b[0;34m(\u001b[0m\u001b[0melo_timeseries\u001b[0m\u001b[0;34m.\u001b[0m\u001b[0mindex\u001b[0m\u001b[0;34m,\u001b[0m \u001b[0melo_timeseries\u001b[0m\u001b[0;34m[\u001b[0m\u001b[0;36m104925\u001b[0m\u001b[0;34m]\u001b[0m\u001b[0;34m)\u001b[0m \u001b[0;31m#Djokovic\u001b[0m\u001b[0;34m\u001b[0m\u001b[0;34m\u001b[0m\u001b[0m\n\u001b[1;32m      3\u001b[0m \u001b[0mplt\u001b[0m\u001b[0;34m.\u001b[0m\u001b[0mplot\u001b[0m\u001b[0;34m(\u001b[0m\u001b[0melo_timeseries\u001b[0m\u001b[0;34m.\u001b[0m\u001b[0mindex\u001b[0m\u001b[0;34m,\u001b[0m \u001b[0melo_timeseries\u001b[0m\u001b[0;34m[\u001b[0m\u001b[0;36m103819\u001b[0m\u001b[0;34m]\u001b[0m\u001b[0;34m)\u001b[0m \u001b[0;31m#Federer\u001b[0m\u001b[0;34m\u001b[0m\u001b[0;34m\u001b[0m\u001b[0m\n\u001b[1;32m      4\u001b[0m \u001b[0mplt\u001b[0m\u001b[0;34m.\u001b[0m\u001b[0mplot\u001b[0m\u001b[0;34m(\u001b[0m\u001b[0melo_timeseries\u001b[0m\u001b[0;34m.\u001b[0m\u001b[0mindex\u001b[0m\u001b[0;34m,\u001b[0m \u001b[0melo_timeseries\u001b[0m\u001b[0;34m[\u001b[0m\u001b[0;36m100581\u001b[0m\u001b[0;34m]\u001b[0m\u001b[0;34m)\u001b[0m \u001b[0;31m#McEnroe\u001b[0m\u001b[0;34m\u001b[0m\u001b[0;34m\u001b[0m\u001b[0m\n\u001b[1;32m      5\u001b[0m \u001b[0mplt\u001b[0m\u001b[0;34m.\u001b[0m\u001b[0mplot\u001b[0m\u001b[0;34m(\u001b[0m\u001b[0melo_timeseries\u001b[0m\u001b[0;34m.\u001b[0m\u001b[0mindex\u001b[0m\u001b[0;34m,\u001b[0m \u001b[0melo_timeseries\u001b[0m\u001b[0;34m[\u001b[0m\u001b[0;36m104745\u001b[0m\u001b[0;34m]\u001b[0m\u001b[0;34m)\u001b[0m \u001b[0;31m#Nadal\u001b[0m\u001b[0;34m\u001b[0m\u001b[0;34m\u001b[0m\u001b[0m\n",
      "\u001b[0;31mNameError\u001b[0m: name 'style' is not defined"
     ]
    }
   ],
   "source": [
    "style.use('stylesheet.mplstyle')\n",
    "plt.plot(elo_timeseries.index, elo_timeseries[104925]) #Djokovic\n",
    "plt.plot(elo_timeseries.index, elo_timeseries[103819]) #Federer\n",
    "plt.plot(elo_timeseries.index, elo_timeseries[100581]) #McEnroe\n",
    "plt.plot(elo_timeseries.index, elo_timeseries[104745]) #Nadal\n",
    "plt.plot(elo_timeseries.index, elo_timeseries[100437]) #Borg\n",
    "plt.plot(elo_timeseries.index, elo_timeseries[100656]) #Lendl\n",
    "plt.plot(elo_timeseries.index, elo_timeseries[101414]) #Becker\n",
    "plt.plot(elo_timeseries.index, elo_timeseries[104918]) #Murray\n",
    "plt.plot(elo_timeseries.index, elo_timeseries[101948]) #Sampras\n",
    "plt.plot(elo_timeseries.index, elo_timeseries[100284]) #Connors\n",
    "\n",
    "plt.title(\"Historical elo ratings for top 10 ATP players\", fontsize=25, y=1.1, weight = 'bold')   \n",
    "plt.xlabel(\"Years starting in the Open-Era\", labelpad= 25)\n",
    "plt.ylabel(\"Elo rating\", labelpad= 32)\n",
    "plt.axhline(1200, color='grey', linewidth=5)\n",
    "\n",
    "plt.show()"
   ]
  },
  {
   "cell_type": "code",
   "execution_count": null,
   "metadata": {},
   "outputs": [],
   "source": []
  }
 ],
 "metadata": {
  "kernelspec": {
   "display_name": "Python 3",
   "language": "python",
   "name": "python3"
  },
  "language_info": {
   "codemirror_mode": {
    "name": "ipython",
    "version": 3
   },
   "file_extension": ".py",
   "mimetype": "text/x-python",
   "name": "python",
   "nbconvert_exporter": "python",
   "pygments_lexer": "ipython3",
   "version": "3.8.3"
  }
 },
 "nbformat": 4,
 "nbformat_minor": 4
}
