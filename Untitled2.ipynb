{
 "cells": [
  {
   "cell_type": "code",
   "execution_count": 6,
   "metadata": {},
   "outputs": [],
   "source": [
    "import numpy as np\n",
    "import pandas as pd\n",
    "import csv\n",
    "from pandas import DataFrame\n",
    "from pandas import Series\n",
    "import matplotlib.pyplot as plt\n",
    "from matplotlib import style"
   ]
  },
  {
   "cell_type": "code",
   "execution_count": 7,
   "metadata": {},
   "outputs": [],
   "source": [
    "def k_factor(matches_played):\n",
    "    K = 250\n",
    "    offset = 5\n",
    "    shape = 0.4 \n",
    "    return K/(matches_played + offset)**shape\n",
    "\n",
    "#winning a match regardless the number of sets played = 1\n",
    "score = 1\n",
    "\n",
    "#define a function for calculating the expected score of player_A\n",
    "#expected score of player_B = 1 - expected score of player\n",
    "def calc_exp_score(playerA_rating, playerB_rating):\n",
    "    exp_score = 1/(1+(10**((playerB_rating - playerA_rating)/400)))\n",
    "    return exp_score\n",
    "\n",
    "#define a function for calculating new elo\n",
    "def update_elo(old_elo, k, actual_score, expected_score):\n",
    "    new_elo = old_elo + k *(actual_score - expected_score)\n",
    "    return new_elo"
   ]
  },
  {
   "cell_type": "code",
   "execution_count": 8,
   "metadata": {},
   "outputs": [],
   "source": [
    "#read player CSV file and store important columns into lists\n",
    "with open('atp/atp_players.csv') as csvfile:\n",
    "    readCSV = csv.reader(csvfile, delimiter= ',')\n",
    "    col_index = [0,1,2,5]\n",
    "    all_players = []\n",
    "    for row in readCSV:\n",
    "        player_info = []\n",
    "        for i in col_index:\n",
    "            player_info.append(row[i])\n",
    "        all_players.append(player_info)"
   ]
  },
  {
   "cell_type": "code",
   "execution_count": 9,
   "metadata": {},
   "outputs": [],
   "source": [
    "#Column headers for player dataframe\n",
    "player_col_header = ['player_id', 'first_name', 'last_name', 'country']"
   ]
  },
  {
   "cell_type": "code",
   "execution_count": 10,
   "metadata": {},
   "outputs": [],
   "source": [
    "#Create a dataframe for keeping track of player info\n",
    "#every player starts with an elo rating of 1500\n",
    "players = DataFrame(all_players, columns = player_col_header)\n",
    "players['current_elo'] = Series(1500, index=players.index)\n",
    "players['last_tourney_date'] = Series('N/A', index=players.index)\n",
    "players['matches_played'] = Series(0, index=players.index)\n",
    "players['peak_elo'] = Series(1500, index=players.index)\n",
    "players['peak_elo_date'] = Series('N/A', index=players.index)"
   ]
  },
  {
   "cell_type": "code",
   "execution_count": 11,
   "metadata": {},
   "outputs": [
    {
     "data": {
      "text/html": [
       "<div>\n",
       "<style scoped>\n",
       "    .dataframe tbody tr th:only-of-type {\n",
       "        vertical-align: middle;\n",
       "    }\n",
       "\n",
       "    .dataframe tbody tr th {\n",
       "        vertical-align: top;\n",
       "    }\n",
       "\n",
       "    .dataframe thead th {\n",
       "        text-align: right;\n",
       "    }\n",
       "</style>\n",
       "<table border=\"1\" class=\"dataframe\">\n",
       "  <thead>\n",
       "    <tr style=\"text-align: right;\">\n",
       "      <th></th>\n",
       "      <th>player_id</th>\n",
       "      <th>first_name</th>\n",
       "      <th>last_name</th>\n",
       "      <th>country</th>\n",
       "      <th>current_elo</th>\n",
       "      <th>last_tourney_date</th>\n",
       "      <th>matches_played</th>\n",
       "      <th>peak_elo</th>\n",
       "      <th>peak_elo_date</th>\n",
       "    </tr>\n",
       "  </thead>\n",
       "  <tbody>\n",
       "    <tr>\n",
       "      <th>1</th>\n",
       "      <td>100001</td>\n",
       "      <td>Gardnar</td>\n",
       "      <td>Mulloy</td>\n",
       "      <td>USA</td>\n",
       "      <td>1500</td>\n",
       "      <td>N/A</td>\n",
       "      <td>0</td>\n",
       "      <td>1500</td>\n",
       "      <td>N/A</td>\n",
       "    </tr>\n",
       "    <tr>\n",
       "      <th>2</th>\n",
       "      <td>100002</td>\n",
       "      <td>Pancho</td>\n",
       "      <td>Segura</td>\n",
       "      <td>ECU</td>\n",
       "      <td>1500</td>\n",
       "      <td>N/A</td>\n",
       "      <td>0</td>\n",
       "      <td>1500</td>\n",
       "      <td>N/A</td>\n",
       "    </tr>\n",
       "    <tr>\n",
       "      <th>3</th>\n",
       "      <td>100003</td>\n",
       "      <td>Frank</td>\n",
       "      <td>Sedgman</td>\n",
       "      <td>AUS</td>\n",
       "      <td>1500</td>\n",
       "      <td>N/A</td>\n",
       "      <td>0</td>\n",
       "      <td>1500</td>\n",
       "      <td>N/A</td>\n",
       "    </tr>\n",
       "    <tr>\n",
       "      <th>4</th>\n",
       "      <td>100004</td>\n",
       "      <td>Giuseppe</td>\n",
       "      <td>Merlo</td>\n",
       "      <td>ITA</td>\n",
       "      <td>1500</td>\n",
       "      <td>N/A</td>\n",
       "      <td>0</td>\n",
       "      <td>1500</td>\n",
       "      <td>N/A</td>\n",
       "    </tr>\n",
       "    <tr>\n",
       "      <th>5</th>\n",
       "      <td>100005</td>\n",
       "      <td>Richard</td>\n",
       "      <td>Gonzalez</td>\n",
       "      <td>USA</td>\n",
       "      <td>1500</td>\n",
       "      <td>N/A</td>\n",
       "      <td>0</td>\n",
       "      <td>1500</td>\n",
       "      <td>N/A</td>\n",
       "    </tr>\n",
       "  </tbody>\n",
       "</table>\n",
       "</div>"
      ],
      "text/plain": [
       "  player_id first_name last_name country  current_elo last_tourney_date  \\\n",
       "1    100001    Gardnar    Mulloy     USA         1500               N/A   \n",
       "2    100002     Pancho    Segura     ECU         1500               N/A   \n",
       "3    100003      Frank   Sedgman     AUS         1500               N/A   \n",
       "4    100004   Giuseppe     Merlo     ITA         1500               N/A   \n",
       "5    100005    Richard  Gonzalez     USA         1500               N/A   \n",
       "\n",
       "   matches_played  peak_elo peak_elo_date  \n",
       "1               0      1500           N/A  \n",
       "2               0      1500           N/A  \n",
       "3               0      1500           N/A  \n",
       "4               0      1500           N/A  \n",
       "5               0      1500           N/A  "
      ]
     },
     "execution_count": 11,
     "metadata": {},
     "output_type": "execute_result"
    }
   ],
   "source": [
    "players.drop([0], axis=0, inplace=True)\n",
    "players.head()"
   ]
  },
  {
   "cell_type": "code",
   "execution_count": 12,
   "metadata": {},
   "outputs": [],
   "source": [
    "#Convert objects within dataframe to numeric\n",
    "players = players._convert(numeric=True)"
   ]
  },
  {
   "cell_type": "code",
   "execution_count": 13,
   "metadata": {},
   "outputs": [
    {
     "name": "stdout",
     "output_type": "stream",
     "text": [
      "[10009]\n"
     ]
    }
   ],
   "source": [
    "winner_id = 110023\n",
    "index_winner = players[players['player_id'] == winner_id].index.tolist()\n",
    "print(index_winner)"
   ]
  },
  {
   "cell_type": "code",
   "execution_count": 14,
   "metadata": {},
   "outputs": [],
   "source": [
    "#Create an empty dataframe to store time series elo for top 10 players based on peak elo rating\n",
    "#Use player_id as the column header of the dataframe\n",
    "#Top ten players consist of: Djokovic, Federer, McEnroe, Nadal, Borg, Lendl, Becker, Murray, Sampras, Connors \n",
    "elo_timeseries_col_header = [104925, 103819, 100581, 104745, 100437, 100656, 101414, 104918, 101948, 100284]\n",
    "elo_timeseries = DataFrame(columns=elo_timeseries_col_header)"
   ]
  },
  {
   "cell_type": "code",
   "execution_count": 15,
   "metadata": {},
   "outputs": [
    {
     "data": {
      "text/html": [
       "<div>\n",
       "<style scoped>\n",
       "    .dataframe tbody tr th:only-of-type {\n",
       "        vertical-align: middle;\n",
       "    }\n",
       "\n",
       "    .dataframe tbody tr th {\n",
       "        vertical-align: top;\n",
       "    }\n",
       "\n",
       "    .dataframe thead th {\n",
       "        text-align: right;\n",
       "    }\n",
       "</style>\n",
       "<table border=\"1\" class=\"dataframe\">\n",
       "  <thead>\n",
       "    <tr style=\"text-align: right;\">\n",
       "      <th></th>\n",
       "      <th>104925</th>\n",
       "      <th>103819</th>\n",
       "      <th>100581</th>\n",
       "      <th>104745</th>\n",
       "      <th>100437</th>\n",
       "      <th>100656</th>\n",
       "      <th>101414</th>\n",
       "      <th>104918</th>\n",
       "      <th>101948</th>\n",
       "      <th>100284</th>\n",
       "    </tr>\n",
       "  </thead>\n",
       "  <tbody>\n",
       "  </tbody>\n",
       "</table>\n",
       "</div>"
      ],
      "text/plain": [
       "Empty DataFrame\n",
       "Columns: [104925, 103819, 100581, 104745, 100437, 100656, 101414, 104918, 101948, 100284]\n",
       "Index: []"
      ]
     },
     "execution_count": 15,
     "metadata": {},
     "output_type": "execute_result"
    }
   ],
   "source": [
    "elo_timeseries.head()"
   ]
  },
  {
   "cell_type": "code",
   "execution_count": 16,
   "metadata": {},
   "outputs": [],
   "source": [
    "#read through matches file for each year to update players data frame\n",
    "#starting from current_year\n",
    "current_year = 1968"
   ]
  },
  {
   "cell_type": "code",
   "execution_count": 17,
   "metadata": {},
   "outputs": [
    {
     "name": "stdout",
     "output_type": "stream",
     "text": [
      "atp/atp_matches_1968.csv\n",
      "atp/atp_matches_1969.csv\n",
      "atp/atp_matches_1970.csv\n",
      "atp/atp_matches_1971.csv\n",
      "atp/atp_matches_1972.csv\n",
      "atp/atp_matches_1973.csv\n",
      "atp/atp_matches_1974.csv\n",
      "atp/atp_matches_1975.csv\n",
      "atp/atp_matches_1976.csv\n",
      "atp/atp_matches_1977.csv\n",
      "atp/atp_matches_1978.csv\n",
      "atp/atp_matches_1979.csv\n",
      "atp/atp_matches_1980.csv\n",
      "atp/atp_matches_1981.csv\n",
      "atp/atp_matches_1982.csv\n",
      "atp/atp_matches_1983.csv\n",
      "atp/atp_matches_1984.csv\n",
      "atp/atp_matches_1985.csv\n",
      "atp/atp_matches_1986.csv\n",
      "atp/atp_matches_1987.csv\n",
      "atp/atp_matches_1988.csv\n",
      "atp/atp_matches_1989.csv\n",
      "atp/atp_matches_1990.csv\n",
      "atp/atp_matches_1991.csv\n",
      "atp/atp_matches_1992.csv\n",
      "atp/atp_matches_1993.csv\n",
      "atp/atp_matches_1994.csv\n",
      "atp/atp_matches_1995.csv\n",
      "atp/atp_matches_1996.csv\n",
      "atp/atp_matches_1997.csv\n",
      "atp/atp_matches_1998.csv\n",
      "atp/atp_matches_1999.csv\n",
      "atp/atp_matches_2000.csv\n",
      "atp/atp_matches_2001.csv\n",
      "atp/atp_matches_2002.csv\n",
      "atp/atp_matches_2003.csv\n",
      "atp/atp_matches_2004.csv\n",
      "atp/atp_matches_2005.csv\n",
      "atp/atp_matches_2006.csv\n",
      "atp/atp_matches_2007.csv\n",
      "atp/atp_matches_2008.csv\n",
      "atp/atp_matches_2009.csv\n",
      "atp/atp_matches_2010.csv\n",
      "atp/atp_matches_2011.csv\n",
      "atp/atp_matches_2012.csv\n",
      "atp/atp_matches_2013.csv\n",
      "atp/atp_matches_2014.csv\n",
      "atp/atp_matches_2015.csv\n",
      "atp/atp_matches_2016.csv\n",
      "atp/atp_matches_2017.csv\n",
      "atp/atp_matches_2018.csv\n",
      "atp/atp_matches_2019.csv\n",
      "atp/atp_matches_2020.csv\n"
     ]
    }
   ],
   "source": [
    "for i in range((2020-1968)+1):\n",
    "    current_year_file_name = 'atp/atp_matches_'+ str(current_year) + '.csv'\n",
    "    print(current_year_file_name)\n",
    "     #read match CSV file and store important columns into lists\n",
    "    with open(current_year_file_name) as csvfile:\n",
    "        readCSV = csv.reader(csvfile, delimiter= ',')\n",
    "        col_index = [0,5,7,15,23,24,25]\n",
    "        all_matches = []\n",
    "        for row in readCSV:\n",
    "            match_info = []\n",
    "            for i in col_index:\n",
    "                match_info.append(row[i])\n",
    "            all_matches.append(match_info)\n",
    "    \n",
    "    #separate column names and match info\n",
    "    header_info = all_matches[0]\n",
    "    all_matches = all_matches[1:]\n",
    "    \n",
    "    #Create a dataframe to store match info\n",
    "    matches = DataFrame(all_matches, columns=header_info)\n",
    "    matches = matches._convert(numeric=True)\n",
    "    \n",
    "    #Sort matches dataframe by tourney_date and then by round\n",
    "    sorter = ['RR', 'R128', 'R64', 'R32', 'R16', 'QF', 'SF', 'F']\n",
    "    matches['round'] = matches['round'].astype('category')\n",
    "    matches['round'].cat.set_categories(sorter, inplace=True)\n",
    "    matches = matches.sort_values(['tourney_date', 'round'], ascending = [1, sorter])\n",
    "    \n",
    "    for index, row in matches.iterrows():\n",
    "        winner_id = row['winner_id']\n",
    "        loser_id = row['loser_id']\n",
    "        tourney_date = row['tourney_date']\n",
    "        index_winner = players[players['player_id'] == winner_id].index.tolist()\n",
    "        index_loser = players[players['player_id'] == loser_id].index.tolist()\n",
    "        old_elo_winner = players.loc[index_winner[0], 'current_elo'] \n",
    "        old_elo_loser = players.loc[index_loser[0], 'current_elo']\n",
    "        exp_score_winner = calc_exp_score(old_elo_winner, old_elo_loser)\n",
    "        exp_score_loser = 1 - exp_score_winner \n",
    "        matches_played_winner = players.loc[index_winner[0], 'matches_played']\n",
    "        matches_played_loser = players.loc[index_loser[0], 'matches_played']\n",
    "        new_elo_winner = update_elo(old_elo_winner, k_factor(matches_played_winner), score, exp_score_winner)\n",
    "        new_elo_loser = update_elo(old_elo_loser, k_factor(matches_played_loser), score-1, exp_score_loser)\n",
    "        players.loc[index_winner[0], 'current_elo'] = new_elo_winner\n",
    "        players.loc[index_winner[0], 'last_tourney_date'] = tourney_date\n",
    "        players.loc[index_winner[0], 'matches_played'] = players.loc[index_winner[0], 'matches_played'] + 1\n",
    "        players.loc[index_loser[0], 'current_elo'] = new_elo_loser\n",
    "        players.loc[index_loser[0], 'last_tourney_date'] = tourney_date\n",
    "        players.loc[index_loser[0], 'matches_played'] = players.loc[index_loser[0], 'matches_played'] + 1\n",
    "        if new_elo_winner > players.loc[index_winner[0], 'peak_elo']:\n",
    "            players.loc[index_winner[0], 'peak_elo'] = new_elo_winner\n",
    "            players.loc[index_winner[0], 'peak_elo_date'] = row['tourney_date']\n",
    "        \n",
    "        #Convert tourney_date to a time stamp, then update elo_timeseries data frame\n",
    "        tourney_date_timestamp = pd.to_datetime(tourney_date, format='%Y%m%d')\n",
    "        if tourney_date_timestamp not in elo_timeseries.index:\n",
    "            elo_timeseries.loc[tourney_date_timestamp, elo_timeseries_col_header] = np.nan\n",
    "\n",
    "        if (winner_id in elo_timeseries_col_header) and (loser_id in elo_timeseries_col_header):\n",
    "            elo_timeseries.loc[tourney_date_timestamp, winner_id]= new_elo_winner\n",
    "            elo_timeseries.loc[tourney_date_timestamp, loser_id]= new_elo_loser\n",
    "        elif winner_id in elo_timeseries_col_header:\n",
    "            elo_timeseries.loc[tourney_date_timestamp, winner_id]= new_elo_winner\n",
    "        elif loser_id in elo_timeseries_col_header:\n",
    "            elo_timeseries.loc[tourney_date_timestamp, loser_id]= new_elo_loser\n",
    "    \n",
    "    ##Uncomment to output year end elo_rankings for every year between 1968 and 2020\n",
    "    output_file_name = str(current_year) + '_yr_end_elo_ranking.csv'\n",
    "    players.to_csv(output_file_name)\n",
    "\n",
    "    current_year = current_year + 1"
   ]
  },
  {
   "cell_type": "code",
   "execution_count": 18,
   "metadata": {},
   "outputs": [],
   "source": [
    "players.to_csv('2020_yr_end_elo_ranking.csv')"
   ]
  },
  {
   "cell_type": "code",
   "execution_count": 22,
   "metadata": {},
   "outputs": [
    {
     "name": "stdout",
     "output_type": "stream",
     "text": [
      "      Unnamed: 0  player_id first_name  last_name country  current_elo  \\\n",
      "4919        4920     104925      Novak        NaN     SRB  2367.598722   \n",
      "3818        3819     103819      Roger        NaN     SUI  2337.711744   \n",
      "580          581     100581       John        NaN     USA  2064.964111   \n",
      "436          437     100437      Bjorn        NaN     SWE  2192.561614   \n",
      "4741        4742     104745     Rafael        NaN     ESP  2344.674127   \n",
      "655          656     100656       Ivan        NaN     USA  2010.357197   \n",
      "4912        4913     104918       Andy        NaN     GBR  2153.549344   \n",
      "1413        1414     101414      Boris        NaN     GER  2078.124623   \n",
      "283          284     100284      Jimmy        NaN     USA  1950.764959   \n",
      "1947        1948     101948       Pete        NaN     USA  2112.385026   \n",
      "\n",
      "      last_tourney_date  matches_played     peak_elo  peak_elo_date  \n",
      "4919         20201116.0            1138  2569.689031     20160222.0  \n",
      "3818         20200120.0            1525  2541.159201     20070226.0  \n",
      "580          19940221.0            1087  2522.619573     19850401.0  \n",
      "436          19931108.0             794  2510.132573     19800811.0  \n",
      "4741         20201116.0            1221  2498.292606     20130930.0  \n",
      "655          19940829.0            1318  2486.297874     19860324.0  \n",
      "4912         20201012.0             890  2449.542132     20170102.0  \n",
      "1413         19990621.0             941  2403.475068     19861201.0  \n",
      "283          19960429.0            1577  2402.341380     19781031.0  \n",
      "1947         20020826.0             996  2390.586282     19940509.0  \n"
     ]
    }
   ],
   "source": [
    "players = pd.read_csv('2020_yr_end_elo_ranking.csv')\n",
    "#Print all-time top 10 peak_elo\n",
    "print (players.sort_values(['peak_elo'], ascending=False)[:10])"
   ]
  },
  {
   "cell_type": "code",
   "execution_count": 28,
   "metadata": {},
   "outputs": [],
   "source": [
    "#Save elo_timeseries dataframe for plotting purposes\n",
    "elo_timeseries.to_pickle('elo_timeseries.pkl')\n",
    "\n",
    "#Open saved pickle file and save into a dataframe\n",
    "elo_timeseries = pd.read_pickle('elo_timeseries.pkl')\n",
    "\n",
    "#Convert objects within elo_timeseries dataframe to numeric\n",
    "elo_timeseries = elo_timeseries._convert(numeric=True)\n",
    "\n",
    "#Use linear interpolation for elo_ratings\n",
    "elo_timeseries = elo_timeseries.interpolate(method='linear')\n",
    "\n",
    "#Store the indices in the elo_timeseries in a list\n",
    "index_timestamp = list(elo_timeseries.index.values)\n",
    "\n",
    "#Get rid of elo ratings since known last_tourney_date\n",
    "for player in elo_timeseries_col_header:\n",
    "    player_index = players[players['player_id'] == player].index.tolist()\n",
    "    player_last_played = players.loc[player_index[0], 'last_tourney_date']\n",
    "    player_last_played_timestamp = np.datetime64(pd.to_datetime(player_last_played, format='%Y%m%d'))\n",
    "\n",
    "    elo_ratings_remove = index_timestamp[index_timestamp.index(player_last_played_timestamp)+1:]\n",
    "\n",
    "    for i in elo_ratings_remove:\n",
    "        elo_timeseries.loc[i, player] = np.nan"
   ]
  },
  {
   "cell_type": "code",
   "execution_count": 33,
   "metadata": {},
   "outputs": [
    {
     "name": "stdout",
     "output_type": "stream",
     "text": [
      "['Solarize_Light2', '_classic_test_patch', 'bmh', 'classic', 'dark_background', 'fast', 'fivethirtyeight', 'ggplot', 'grayscale', 'seaborn', 'seaborn-bright', 'seaborn-colorblind', 'seaborn-dark', 'seaborn-dark-palette', 'seaborn-darkgrid', 'seaborn-deep', 'seaborn-muted', 'seaborn-notebook', 'seaborn-paper', 'seaborn-pastel', 'seaborn-poster', 'seaborn-talk', 'seaborn-ticks', 'seaborn-white', 'seaborn-whitegrid', 'tableau-colorblind10']\n"
     ]
    },
    {
     "data": {
      "image/png": "[encoded data removed]",
      "text/plain": [
       "<Figure size 432x288 with 1 Axes>"
      ]
     },
     "metadata": {},
     "output_type": "display_data"
    }
   ],
   "source": [
    "from matplotlib import style\n",
    "print(plt.style.available)\n",
    "\n",
    "style.use('Solarize_Light2')\n",
    "plt.plot(elo_timeseries.index, elo_timeseries[104925]) #Djokovic\n",
    "plt.plot(elo_timeseries.index, elo_timeseries[103819]) #Federer\n",
    "plt.plot(elo_timeseries.index, elo_timeseries[100581]) #McEnroe\n",
    "plt.plot(elo_timeseries.index, elo_timeseries[104745]) #Nadal\n",
    "plt.plot(elo_timeseries.index, elo_timeseries[100437]) #Borg\n",
    "plt.plot(elo_timeseries.index, elo_timeseries[100656]) #Lendl\n",
    "plt.plot(elo_timeseries.index, elo_timeseries[101414]) #Becker\n",
    "plt.plot(elo_timeseries.index, elo_timeseries[104918]) #Murray\n",
    "plt.plot(elo_timeseries.index, elo_timeseries[101948]) #Sampras\n",
    "plt.plot(elo_timeseries.index, elo_timeseries[100284]) #Connors\n",
    "\n",
    "plt.title(\"Historical elo ratings for top 10 ATP players\", fontsize=25, y=1.1, weight = 'bold')   \n",
    "plt.xlabel(\"Years starting in the Open-Era\", labelpad= 25)\n",
    "plt.ylabel(\"Elo rating\", labelpad= 32)\n",
    "plt.axhline(1200, color='grey', linewidth=5)\n",
    "\n",
    "plt.show()"
   ]
  },
  {
   "cell_type": "code",
   "execution_count": null,
   "metadata": {},
   "outputs": [],
   "source": []
  }
 ],
 "metadata": {
  "kernelspec": {
   "display_name": "Python 3",
   "language": "python",
   "name": "python3"
  },
  "language_info": {
   "codemirror_mode": {
    "name": "ipython",
    "version": 3
   },
   "file_extension": ".py",
   "mimetype": "text/x-python",
   "name": "python",
   "nbconvert_exporter": "python",
   "pygments_lexer": "ipython3",
   "version": "3.8.3"
  }
 },
 "nbformat": 4,
 "nbformat_minor": 4
}
